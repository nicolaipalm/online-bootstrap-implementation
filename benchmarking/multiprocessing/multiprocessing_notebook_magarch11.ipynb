{
 "cells": [
  {
   "cell_type": "code",
   "execution_count": null,
   "outputs": [],
   "source": [
    "import numpy as np\n",
    "import pandas as pd\n",
    "from multiprocess import Pool\n",
    "\n",
    "from benchmarking.multiprocessing.functions import evaluate_ar, evaluate_multiplier_iid, evaluate_ma\n",
    "from bstrapping.synthetic_time_series.magarch11 import MovingAverageGARCH11"
   ],
   "metadata": {
    "collapsed": false
   },
   "id": "aed9464ae1972baf"
  },
  {
   "cell_type": "code",
   "execution_count": null,
   "outputs": [],
   "source": [
    "benchmark = []\n",
    "means_of_variance = []\n",
    "std_of_variance = []\n",
    "coverage_probability = []\n",
    "\n",
    "list_name_weights = ['AR',\n",
    "                     'Multiplier',\n",
    "                     'MA',\n",
    "                     ]"
   ],
   "metadata": {
    "collapsed": false
   },
   "id": "ba8f0b87876413cc"
  },
  {
   "cell_type": "code",
   "execution_count": null,
   "outputs": [],
   "source": [
    "sample_size = 10000\n",
    "runs = 250\n",
    "\n",
    "mean = 4\n",
    "alpha0 = 1\n",
    "alpha = 0.25\n",
    "beta = 0.25\n",
    "parameters = np.array([0.5 ** i for i in range(1, 3)])"
   ],
   "metadata": {
    "collapsed": false
   },
   "id": "dbf8f63c165eeb93"
  },
  {
   "cell_type": "code",
   "execution_count": null,
   "outputs": [],
   "source": [
    "samples = [\n",
    "    MovingAverageGARCH11(mean=mean,parameters=parameters, alpha0=alpha0, alpha=alpha, beta=beta).generate_samples(sample_size)\n",
    "    for _ in range(runs)]"
   ],
   "metadata": {
    "collapsed": false
   },
   "id": "3bdb77e4284576f4"
  },
  {
   "cell_type": "code",
   "execution_count": null,
   "outputs": [],
   "source": [
    "time_series = MovingAverageGARCH11(mean=mean,parameters=parameters, alpha0=alpha0, alpha=alpha, beta=beta)\n",
    "time_series.asymptotic_variance"
   ],
   "metadata": {
    "collapsed": false
   },
   "id": "3eb01414f3c72ac7"
  },
  {
   "cell_type": "markdown",
   "source": [
    "## Benchmark bootstraps"
   ],
   "metadata": {
    "collapsed": false
   },
   "id": "6821e096a7bed51d"
  },
  {
   "cell_type": "code",
   "execution_count": null,
   "outputs": [],
   "source": [
    "%%time\n",
    "%%capture\n",
    "# benchmark AR bootstrap\n",
    "p = Pool()\n",
    "\n",
    "evaluations_ar = p.map(lambda sample: evaluate_ar(sample, alpha=0.1, mean=mean), samples)\n",
    "\n",
    "result = np.array(evaluations_ar)\n",
    "\n",
    "coverage_probability.append(np.sum(result.T[1]) / runs)\n",
    "means_of_variance.append(np.mean(result.T[0]))\n",
    "std_of_variance.append(np.std(result.T[0]))\n"
   ],
   "metadata": {
    "collapsed": false
   },
   "id": "dafad42789da53e0"
  },
  {
   "cell_type": "code",
   "execution_count": null,
   "outputs": [],
   "source": [
    "%%time\n",
    "%%capture\n",
    "# benchmark AR bootstrap\n",
    "p = Pool()\n",
    "\n",
    "evaluations_multiplier_iid = p.map(lambda sample: evaluate_multiplier_iid(sample, alpha=0.1, mean=mean), samples)\n",
    "\n",
    "result = np.array(evaluations_multiplier_iid)\n",
    "\n",
    "coverage_probability.append(np.sum(result.T[1]) / runs)\n",
    "means_of_variance.append(np.mean(result.T[0]))\n",
    "std_of_variance.append(np.std(result.T[0]))"
   ],
   "metadata": {
    "collapsed": false
   },
   "id": "5cb2dbcf975964c2"
  },
  {
   "cell_type": "code",
   "execution_count": null,
   "outputs": [],
   "source": [
    "%%time\n",
    "%%capture\n",
    "# benchmark AR bootstrap\n",
    "p = Pool()\n",
    "\n",
    "evaluations_ma = p.map(lambda sample: evaluate_ma(sample, alpha=0.1, mean=mean), samples)\n",
    "\n",
    "result = np.array(evaluations_ma)\n",
    "\n",
    "coverage_probability.append(np.sum(result.T[1]) / runs)\n",
    "means_of_variance.append(np.mean(result.T[0]))\n",
    "std_of_variance.append(np.std(result.T[0]))"
   ],
   "metadata": {
    "collapsed": false,
    "is_executing": true
   },
   "id": "652537ac5c7e0c9e"
  },
  {
   "cell_type": "markdown",
   "source": [
    "## Concatination result"
   ],
   "metadata": {
    "collapsed": false
   },
   "id": "f535e8ed17bf047d"
  },
  {
   "cell_type": "code",
   "execution_count": null,
   "outputs": [],
   "source": [
    "benchmark = [time_series.asymptotic_variance,\n",
    "             sample_size] + means_of_variance + std_of_variance + [1 - 0.1] + coverage_probability"
   ],
   "metadata": {
    "collapsed": false,
    "is_executing": true
   },
   "id": "6e390c3c05c46f1d"
  },
  {
   "cell_type": "code",
   "execution_count": null,
   "outputs": [],
   "source": [
    "benchmark = pd.DataFrame([benchmark], columns=pd.MultiIndex.from_tuples([\n",
    "                                                             (\"mean\", \"Asymptotic variance\"),\n",
    "                                                             (\"Sample size\", \"\")] +\n",
    "                                                            [(\"mean\", name,) for name in list_name_weights] +\n",
    "                                                            [(\"std\", name,) for name in list_name_weights] +\n",
    "                                                            [(\"In confidence interval\", \"Confidence level\")]\n",
    "                                                            +\n",
    "                                                            [(\"In confidence interval\", name,) for name in\n",
    "                                                             list_name_weights]\n",
    "                                                            )).set_index([\"Sample size\"])"
   ],
   "metadata": {
    "collapsed": false,
    "is_executing": true
   },
   "id": "80eb70c95278451"
  },
  {
   "cell_type": "code",
   "execution_count": null,
   "outputs": [],
   "source": [
    "benchmark"
   ],
   "metadata": {
    "collapsed": false,
    "is_executing": true
   },
   "id": "b95eedd854ff640c"
  },
  {
   "cell_type": "code",
   "execution_count": null,
   "outputs": [],
   "source": [
    "benchmark.to_csv(f\"./data/magarch-process/benchmark_{sample_size}_magarch11_2.csv\")\n",
    "benchmark.to_pickle(f\"./data/magarch-process/benchmark_{sample_size}_magarch11_2.pkl\")"
   ],
   "metadata": {
    "collapsed": false,
    "is_executing": true
   },
   "id": "fb5e172f4574883d"
  }
 ],
 "metadata": {
  "kernelspec": {
   "display_name": "Python 3",
   "language": "python",
   "name": "python3"
  },
  "language_info": {
   "codemirror_mode": {
    "name": "ipython",
    "version": 2
   },
   "file_extension": ".py",
   "mimetype": "text/x-python",
   "name": "python",
   "nbconvert_exporter": "python",
   "pygments_lexer": "ipython2",
   "version": "2.7.6"
  }
 },
 "nbformat": 4,
 "nbformat_minor": 5
}
