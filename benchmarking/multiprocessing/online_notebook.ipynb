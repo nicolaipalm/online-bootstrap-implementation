{
 "cells": [
  {
   "cell_type": "code",
   "execution_count": null,
   "id": "initial_id",
   "metadata": {
    "collapsed": true
   },
   "outputs": [],
   "source": [
    "import time\n",
    "\n",
    "import numpy as np\n",
    "import pandas as pd\n",
    "from bstrapping.synthetic_time_series.moving_average import MovingAverage\n",
    "from bstrapping.weights.moving_average import MovingAverageWeights, triangle_window"
   ]
  },
  {
   "cell_type": "code",
   "execution_count": null,
   "outputs": [],
   "source": [
    "mean = 4  # mean of the time series\n",
    "alpha = 0.05\n",
    "\n",
    "# Names of the stochastic processes\n",
    "\n",
    "# Dependence coefficients of the stochastic processes, i.e. of the moving average processes\n",
    "dependence_coefficients = [\n",
    "    np.array([0]),\n",
    "    np.array([0.5]),\n",
    "    np.array([0.5 ** i for i in range(1, 3)]),\n",
    "    np.array([0.5 ** i for i in range(1, 11)]),\n",
    "    np.array([0.5 ** i for i in range(1, 16)]),\n",
    "    np.array([0.5 ** i for i in range(1, 21)]),\n",
    "]\n",
    "\n",
    "names_dependence_coefficients = [\n",
    "    \"iid\",\n",
    "    \"MA(1)\",\n",
    "    \"MA(2)\",\n",
    "    \"MA(10)\",\n",
    "    \"MA(15)\",\n",
    "    \"MA(20)\",\n",
    "]\n",
    "\n",
    "list_name_weights = ['AR',\n",
    "                     'Multiplier',\n",
    "                     'MA',\n",
    "                     ]"
   ],
   "metadata": {
    "collapsed": false
   },
   "id": "c386c8718cb81aaa"
  },
  {
   "cell_type": "code",
   "execution_count": null,
   "outputs": [],
   "source": [
    "sample_size = 2000\n",
    "index_dependence = 0\n",
    "bootstrapped_sample_size = 250\n",
    "samples = MovingAverage(mean=mean, parameters=dependence_coefficients[index_dependence]).generate_samples(sample_size)"
   ],
   "metadata": {
    "collapsed": false
   },
   "id": "b5b093cac56fbb27"
  },
  {
   "cell_type": "code",
   "execution_count": null,
   "outputs": [],
   "source": [
    "MovingAverage(mean=mean, parameters=dependence_coefficients[index_dependence]).asymptotic_variance"
   ],
   "metadata": {
    "collapsed": false
   },
   "id": "7296c07726dbfe7f"
  },
  {
   "cell_type": "markdown",
   "source": [
    "# Online multiplier bootstrap"
   ],
   "metadata": {
    "collapsed": false
   },
   "id": "31dc4e2fbe25e7c2"
  },
  {
   "cell_type": "code",
   "execution_count": null,
   "outputs": [],
   "source": [
    "from bstrapping.weights.auto_regressive_weights import AutoRegressiveWeights, generate_recursive_weight\n",
    "from bstrapping.bootstrap_procedures.weighted_bootstrap import WeightedBootstrap\n",
    "\n",
    "bootstrap = WeightedBootstrap(samples=samples,\n",
    "                              weights=AutoRegressiveWeights(samples=samples),\n",
    "                              number_bootstrap_samples=bootstrapped_sample_size)"
   ],
   "metadata": {
    "collapsed": false
   },
   "id": "59f5f4a575b31470"
  },
  {
   "cell_type": "code",
   "execution_count": null,
   "outputs": [],
   "source": [
    "sample_size * bootstrap.bootstrapped_variance"
   ],
   "metadata": {
    "collapsed": false
   },
   "id": "e69f3ed08f1f311b"
  },
  {
   "cell_type": "code",
   "execution_count": null,
   "outputs": [],
   "source": [
    "def new_weights_ar(t, old_weights):\n",
    "    return np.array([generate_recursive_weight(t, V_i, alpha=2 ** (1 / 2) - 1) for V_i in old_weights])"
   ],
   "metadata": {
    "collapsed": false
   },
   "id": "11899babb74574aa"
  },
  {
   "cell_type": "code",
   "execution_count": null,
   "outputs": [],
   "source": [
    "def online_update(new_sample, averages_mean, new_weights, sum_old_weights):\n",
    "    averages_mean = (sum_old_weights / (sum_old_weights + new_weights)) * averages_mean + 1 / (\n",
    "            sum_old_weights + new_weights) * new_weights * new_sample\n",
    "    return averages_mean"
   ],
   "metadata": {
    "collapsed": false
   },
   "id": "ae894fe2b2c9d567"
  },
  {
   "cell_type": "code",
   "execution_count": null,
   "outputs": [],
   "source": [
    "duration_ar = []\n",
    "\n",
    "start_time = time.perf_counter()\n",
    "old_weights = np.random.normal(loc=1, scale=1, size=bootstrapped_sample_size)\n",
    "sum_old_weights = old_weights\n",
    "old_weights = old_weights\n",
    "averages_mean = np.array([samples[0] * old_weights])\n",
    "end_time = time.perf_counter()\n",
    "duration_ar.append(end_time - start_time)\n",
    "# for validation\n",
    "asy_var = []\n",
    "for t, sample in enumerate(samples[1:]):\n",
    "    start_time = time.perf_counter()\n",
    "    new_weights = new_weights_ar(t + 1, old_weights)\n",
    "    averages_mean = online_update(sample, averages_mean, new_weights, sum_old_weights)\n",
    "    sum_old_weights += new_weights\n",
    "    # for validation\n",
    "\n",
    "    asy_var.append((t + 1) * np.var(averages_mean))\n",
    "\n",
    "    old_weights = new_weights\n",
    "    end_time = time.perf_counter()\n",
    "    duration_ar.append(end_time - start_time)"
   ],
   "metadata": {
    "collapsed": false
   },
   "id": "a11aedf3d39456b0"
  },
  {
   "cell_type": "code",
   "execution_count": null,
   "outputs": [],
   "source": [
    "pd.DataFrame(asy_var)[1000:].plot(title=\"AR\")"
   ],
   "metadata": {
    "collapsed": false
   },
   "id": "2884c48333c2b19f"
  },
  {
   "cell_type": "markdown",
   "source": [
    "# IID"
   ],
   "metadata": {
    "collapsed": false
   },
   "id": "386374dc048ef785"
  },
  {
   "cell_type": "code",
   "execution_count": null,
   "outputs": [],
   "source": [
    "def new_weights_iid():\n",
    "    return np.random.normal(loc=1, scale=1, size=bootstrapped_sample_size)\n",
    "\n",
    "\n",
    "duration_iid = []\n",
    "# for validation\n",
    "asy_var = []\n",
    "averages_mean = np.zeros(bootstrapped_sample_size)\n",
    "sum_old_weights = 0\n",
    "for t, sample in enumerate(samples):\n",
    "    start_time = time.perf_counter()\n",
    "    new_weights = new_weights_iid()\n",
    "    averages_mean = online_update(sample, averages_mean, new_weights, sum_old_weights)\n",
    "    sum_old_weights += new_weights\n",
    "    # for validation\n",
    "\n",
    "    asy_var.append((t + 1) * np.var(averages_mean))\n",
    "\n",
    "    old_weights = new_weights\n",
    "    end_time = time.perf_counter()\n",
    "    duration_iid.append(end_time - start_time)"
   ],
   "metadata": {
    "collapsed": false
   },
   "id": "a72e3b56bda88fec"
  },
  {
   "cell_type": "code",
   "execution_count": null,
   "outputs": [],
   "source": [
    "pd.DataFrame(asy_var)[100:].plot(title=\"IID\")"
   ],
   "metadata": {
    "collapsed": false
   },
   "id": "2cecdecb45d502c6"
  },
  {
   "cell_type": "markdown",
   "source": [
    "# MA "
   ],
   "metadata": {
    "collapsed": false
   },
   "id": "e3e17d188c2175"
  },
  {
   "cell_type": "markdown",
   "source": [
    "The moving average bootstrap (block multiplier bootstrap) requires updating *all* weights whenever the block length (``ìnt(n**(1/3))``) changes.  In particular, this makes this bootstrap an offline bootstrap. \n",
    "However, in order to compare the evaluation times, whenever the block length does not change and 'online' update of the bootstrap is possible. This is implemented in the following."
   ],
   "metadata": {
    "collapsed": false
   },
   "id": "54e7adac55b39eb8"
  },
  {
   "cell_type": "code",
   "execution_count": null,
   "outputs": [],
   "source": [
    "def new_weights_ma_same_block_length(gamma_weights, t, block_length):\n",
    "    return np.sum([\n",
    "        triangle_window(block_length, j) * gamma_weights[t - j]\n",
    "        for j in range(-block_length, block_length + 1)])"
   ],
   "metadata": {
    "collapsed": false
   },
   "id": "cf40790e09317116"
  },
  {
   "cell_type": "code",
   "execution_count": null,
   "outputs": [],
   "source": [
    "duration_ma = []\n",
    "# for validation"
   ],
   "metadata": {
    "collapsed": false
   },
   "id": "68769013ff540481"
  },
  {
   "cell_type": "code",
   "execution_count": null,
   "outputs": [],
   "source": [
    "times = []\n",
    "\n",
    "asy_var = []\n",
    "for t, sample in enumerate(samples):\n",
    "    start_time = time.perf_counter()\n",
    "    dummy = []\n",
    "    if int(t ** (1 / 3)) == int((t + 1) ** (1 / 3)): # block length does not change\n",
    "        for gamma_weight in gamma_weights:\n",
    "            gamma_weight.append(np.random.gamma(q, 1 / q, ))\n",
    "        dummy.append(time.perf_counter())  #\n",
    "        new_weights = new_weights_ma_same_block_length(np.array(gamma_weights).T, t + 1, block_length)\n",
    "        dummy.append(time.perf_counter())  #\n",
    "        averages_mean = online_update(sample, averages_mean, new_weights, sum_old_weights)\n",
    "        sum_old_weights += new_weights\n",
    "        # for validation\n",
    "\n",
    "        asy_var.append((t + 1) * np.var(averages_mean))\n",
    "\n",
    "        old_weights = new_weights\n",
    "        dummy = np.array(dummy)\n",
    "        dummy = dummy[1:] - dummy[:-1]\n",
    "        times.append(dummy)\n",
    "    else: # block length changes\n",
    "        print(\"time index at which block length changed: \", t)\n",
    "        block_length = int((t + 1) ** (1 / 3))\n",
    "        q = 2 / (3 * block_length) + 1 / (3 * block_length ** 3)\n",
    "        new_weights_ma_same_block_length.gamma_weights = []\n",
    "        gamma_weights = []\n",
    "        averages_mean = []\n",
    "        for _ in range(bootstrapped_sample_size):\n",
    "            weights = MovingAverageWeights(samples=samples[:t + 1])\n",
    "            weight = weights()\n",
    "            gamma_weights.append(weights._gamma_weights)\n",
    "            averages_mean.append(np.average((1 / np.average(weight) * weight * samples[:t + 1])))\n",
    "        averages_mean = np.array(averages_mean)\n",
    "        asy_var.append((t + 1) * np.var(averages_mean))\n",
    "\n",
    "    end_time = time.perf_counter()\n",
    "    duration_ma.append(end_time - start_time)"
   ],
   "metadata": {
    "collapsed": false
   },
   "id": "cad95680795203dd"
  },
  {
   "cell_type": "code",
   "execution_count": null,
   "outputs": [],
   "source": [
    "pd.DataFrame(asy_var).plot(title=\"MA\")"
   ],
   "metadata": {
    "collapsed": false
   },
   "id": "283f85281284b62c"
  },
  {
   "cell_type": "markdown",
   "source": [
    "# Evaluation"
   ],
   "metadata": {
    "collapsed": false
   },
   "id": "a4209d338e5c07ab"
  },
  {
   "cell_type": "code",
   "execution_count": null,
   "outputs": [],
   "source": [
    "benchmark = pd.DataFrame([duration_ar, duration_ma, duration_iid],\n",
    "                         index=[\"AR\", \"MA\", \"IID\"],\n",
    "                         columns=range(1, 1 + sample_size)).T\n",
    "\n",
    "benchmark.index_name = \"Sample size\""
   ],
   "metadata": {
    "collapsed": false
   },
   "id": "61bfe9008de43285"
  },
  {
   "cell_type": "code",
   "execution_count": null,
   "outputs": [],
   "source": [
    "benchmark"
   ],
   "metadata": {
    "collapsed": false
   },
   "id": "25ef0bff0b57e283"
  },
  {
   "cell_type": "code",
   "execution_count": null,
   "outputs": [],
   "source": [
    "benchmark[\"IID\"].plot(title=\"Online IID bootstrap\", logy=True)"
   ],
   "metadata": {
    "collapsed": false
   },
   "id": "121f42775123ea96"
  },
  {
   "cell_type": "code",
   "execution_count": null,
   "outputs": [],
   "source": [
    "benchmark[\"MA\"].plot(title=\"MA bootstrap\", ylim=(0, 0.1))"
   ],
   "metadata": {
    "collapsed": false
   },
   "id": "e1e900b44224f247"
  },
  {
   "cell_type": "code",
   "execution_count": null,
   "outputs": [],
   "source": [
    "benchmark[\"AR\"].plot(title=\"Online AR bootstrap\")"
   ],
   "metadata": {
    "collapsed": false
   },
   "id": "9521d6693aaa54d8"
  },
  {
   "cell_type": "code",
   "execution_count": null,
   "outputs": [],
   "source": [
    "print(benchmark.mean())\n",
    "benchmark.mean().plot()"
   ],
   "metadata": {
    "collapsed": false
   },
   "id": "909a599b8b8dc157"
  },
  {
   "cell_type": "code",
   "execution_count": null,
   "outputs": [],
   "source": [
    "#benchmark.to_csv(f\"./data/benchmark_time.csv\")\n",
    "#benchmark.to_pickle(f\"./data/benchmark_time.pkl\")"
   ],
   "metadata": {
    "collapsed": false
   },
   "id": "cfcfb57411b3a47a"
  }
 ],
 "metadata": {
  "kernelspec": {
   "display_name": "Python 3",
   "language": "python",
   "name": "python3"
  },
  "language_info": {
   "codemirror_mode": {
    "name": "ipython",
    "version": 2
   },
   "file_extension": ".py",
   "mimetype": "text/x-python",
   "name": "python",
   "nbconvert_exporter": "python",
   "pygments_lexer": "ipython2",
   "version": "2.7.6"
  }
 },
 "nbformat": 4,
 "nbformat_minor": 5
}
