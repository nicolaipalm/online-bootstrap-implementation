{
 "cells": [
  {
   "cell_type": "code",
   "execution_count": null,
   "outputs": [],
   "source": [
    "import numpy as np\n",
    "import pandas as pd\n",
    "from multiprocess import Pool\n",
    "\n",
    "from benchmarking.multiprocessing.functions import evaluate_ar, evaluate_multiplier_iid, evaluate_ma\n",
    "from bstrapping.synthetic_time_series.moving_average import MovingAverage"
   ],
   "metadata": {
    "collapsed": false
   },
   "id": "aed9464ae1972baf"
  },
  {
   "cell_type": "code",
   "execution_count": null,
   "id": "initial_id",
   "metadata": {
    "collapsed": true
   },
   "outputs": [],
   "source": [
    "mean = 4  # mean of the time series\n",
    "alpha = 0.05\n",
    "\n",
    "# Names of the stochastic processes\n",
    "\n",
    "# Dependence coefficients of the stochastic processes, i.e. of the moving average processes\n",
    "dependence_coefficients = [\n",
    "    np.array([0]),\n",
    "    np.array([0.5]),\n",
    "    np.array([0.5 ** i for i in range(1, 3)]),\n",
    "    np.array([0.5 ** i for i in range(1, 11)]),\n",
    "    np.array([0.5 ** i for i in range(1, 16)]),\n",
    "    np.array([0.5 ** i for i in range(1, 21)]),\n",
    "]\n",
    "\n",
    "names_dependence_coefficients = [\n",
    "    \"iid\",\n",
    "    \"MA(1)\",\n",
    "    \"MA(2)\",\n",
    "    \"MA(10)\",\n",
    "    \"MA(25)\",\n",
    "    \"MA(20)\",\n",
    "]\n",
    "\n",
    "list_name_weights = ['AR',\n",
    "                     'Multiplier',\n",
    "                     'MA',\n",
    "                     ]"
   ]
  },
  {
   "cell_type": "code",
   "execution_count": null,
   "outputs": [],
   "source": [
    "benchmark = []\n",
    "means_of_variance = []\n",
    "std_of_variance = []\n",
    "coverage_probability = []"
   ],
   "metadata": {
    "collapsed": false
   },
   "id": "ba8f0b87876413cc"
  },
  {
   "cell_type": "code",
   "execution_count": null,
   "outputs": [],
   "source": [
    "sample_size = 1000\n",
    "runs = 100\n",
    "index_dependence = 3\n",
    "\n",
    "time_series = MovingAverage(mean=mean, parameters=dependence_coefficients[index_dependence])"
   ],
   "metadata": {
    "collapsed": false
   },
   "id": "dbf8f63c165eeb93"
  },
  {
   "cell_type": "code",
   "execution_count": null,
   "outputs": [],
   "source": [
    "samples = [\n",
    "    MovingAverage(mean=mean, parameters=dependence_coefficients[index_dependence]).generate_samples(sample_size)\n",
    "    for _ in range(runs)]"
   ],
   "metadata": {
    "collapsed": false
   },
   "id": "3bdb77e4284576f4"
  },
  {
   "cell_type": "code",
   "execution_count": null,
   "outputs": [],
   "source": [
    "MovingAverage(mean=mean, parameters=dependence_coefficients[index_dependence]).asymptotic_variance"
   ],
   "metadata": {
    "collapsed": false
   },
   "id": "3eb01414f3c72ac7"
  },
  {
   "cell_type": "markdown",
   "source": [
    "## Benchmark bootstraps"
   ],
   "metadata": {
    "collapsed": false
   },
   "id": "6821e096a7bed51d"
  },
  {
   "cell_type": "code",
   "execution_count": null,
   "outputs": [],
   "source": [
    "%%time\n",
    "%%capture\n",
    "# benchmark AR bootstrap\n",
    "p = Pool()\n",
    "\n",
    "evaluations_ar = p.map(lambda sample: evaluate_ar(sample, alpha=alpha), samples)\n",
    "\n",
    "result = np.array(evaluations_ar)\n",
    "\n",
    "coverage_probability.append(np.sum(result.T[1]) / runs)\n",
    "means_of_variance.append(np.mean(result.T[0]))\n",
    "std_of_variance.append(np.std(result.T[0]))\n"
   ],
   "metadata": {
    "collapsed": false
   },
   "id": "dafad42789da53e0"
  },
  {
   "cell_type": "code",
   "execution_count": null,
   "outputs": [],
   "source": [
    "%%time\n",
    "%%capture\n",
    "# benchmark AR bootstrap\n",
    "p = Pool()\n",
    "\n",
    "evaluations_multiplier_iid = p.map(lambda sample: evaluate_multiplier_iid(sample, alpha=alpha), samples)\n",
    "\n",
    "result = np.array(evaluations_multiplier_iid)\n",
    "\n",
    "coverage_probability.append(np.sum(result.T[1]) / runs)\n",
    "means_of_variance.append(np.mean(result.T[0]))\n",
    "std_of_variance.append(np.std(result.T[0]))"
   ],
   "metadata": {
    "collapsed": false
   },
   "id": "5cb2dbcf975964c2"
  },
  {
   "cell_type": "code",
   "execution_count": null,
   "outputs": [],
   "source": [
    "%%time\n",
    "%%capture\n",
    "# benchmark AR bootstrap\n",
    "p = Pool()\n",
    "\n",
    "evaluations_ma = p.map(lambda sample: evaluate_ma(sample, alpha=alpha), samples)\n",
    "\n",
    "result = np.array(evaluations_ma)\n",
    "\n",
    "coverage_probability.append(np.sum(result.T[1]) / runs)\n",
    "means_of_variance.append(np.mean(result.T[0]))\n",
    "std_of_variance.append(np.std(result.T[0]))"
   ],
   "metadata": {
    "collapsed": false
   },
   "id": "652537ac5c7e0c9e"
  },
  {
   "cell_type": "markdown",
   "source": [
    "## Concatination result"
   ],
   "metadata": {
    "collapsed": false
   },
   "id": "f535e8ed17bf047d"
  },
  {
   "cell_type": "code",
   "execution_count": null,
   "outputs": [],
   "source": [
    "benchmark = [names_dependence_coefficients[index_dependence], time_series.asymptotic_variance,\n",
    "             sample_size] + means_of_variance + std_of_variance + [1 - alpha] + coverage_probability"
   ],
   "metadata": {
    "collapsed": false
   },
   "id": "6e390c3c05c46f1d"
  },
  {
   "cell_type": "code",
   "execution_count": null,
   "outputs": [],
   "source": [
    "benchmark = pd.DataFrame([benchmark], columns=pd.MultiIndex.from_tuples([(\"Stochastic process\", \"\"),\n",
    "                                                             (\"mean\", \"Asymptotic variance\"),\n",
    "                                                             (\"Sample size\", \"\")] +\n",
    "                                                            [(\"mean\", name,) for name in list_name_weights] +\n",
    "                                                            [(\"std\", name,) for name in list_name_weights] +\n",
    "                                                            [(\"In confidence interval\", \"Confidence level\")]\n",
    "                                                            +\n",
    "                                                            [(\"In confidence interval\", name,) for name in\n",
    "                                                             list_name_weights]\n",
    "                                                            )).set_index([\"Sample size\"])"
   ],
   "metadata": {
    "collapsed": false
   },
   "id": "80eb70c95278451"
  },
  {
   "cell_type": "code",
   "execution_count": null,
   "outputs": [],
   "source": [
    "benchmark.to_csv(f\"./data/benchmark_{sample_size}_{names_dependence_coefficients[index_dependence]}.csv\")\n",
    "benchmark.to_pickle(f\"./data/benchmark_{sample_size}_{names_dependence_coefficients[index_dependence]}.pkl\")"
   ],
   "metadata": {
    "collapsed": false
   },
   "id": "fb5e172f4574883d"
  },
  {
   "cell_type": "code",
   "execution_count": null,
   "outputs": [],
   "source": [
    "benchmark"
   ],
   "metadata": {
    "collapsed": false
   },
   "id": "b95eedd854ff640c"
  }
 ],
 "metadata": {
  "kernelspec": {
   "display_name": "Python 3",
   "language": "python",
   "name": "python3"
  },
  "language_info": {
   "codemirror_mode": {
    "name": "ipython",
    "version": 2
   },
   "file_extension": ".py",
   "mimetype": "text/x-python",
   "name": "python",
   "nbconvert_exporter": "python",
   "pygments_lexer": "ipython2",
   "version": "2.7.6"
  }
 },
 "nbformat": 4,
 "nbformat_minor": 5
}
