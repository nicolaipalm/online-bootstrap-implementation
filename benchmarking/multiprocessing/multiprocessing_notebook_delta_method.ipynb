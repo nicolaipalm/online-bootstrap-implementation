{
 "cells": [
  {
   "cell_type": "code",
   "execution_count": 1,
   "outputs": [],
   "source": [
    "import numpy as np\n",
    "import pandas as pd\n",
    "from multiprocess import Pool\n",
    "\n",
    "from benchmarking.multiprocessing.functions import evaluate_ar, evaluate_multiplier_iid, evaluate_ma\n",
    "from bstrapping.synthetic_time_series.log_ma import LogMovingAverage\n",
    "from bstrapping.synthetic_time_series.moving_average import MovingAverage"
   ],
   "metadata": {
    "collapsed": false,
    "ExecuteTime": {
     "end_time": "2023-12-03T15:44:33.705959Z",
     "start_time": "2023-12-03T15:44:33.360913Z"
    }
   },
   "id": "aed9464ae1972baf"
  },
  {
   "cell_type": "code",
   "execution_count": 2,
   "outputs": [],
   "source": [
    "benchmark = []\n",
    "means_of_variance = []\n",
    "std_of_variance = []\n",
    "coverage_probability = []\n",
    "\n",
    "list_name_weights = ['AR',\n",
    "                     'Multiplier',\n",
    "                     'MA',\n",
    "                     ]"
   ],
   "metadata": {
    "collapsed": false,
    "ExecuteTime": {
     "end_time": "2023-12-03T15:44:33.713244Z",
     "start_time": "2023-12-03T15:44:33.708050Z"
    }
   },
   "id": "ba8f0b87876413cc"
  },
  {
   "cell_type": "code",
   "execution_count": 3,
   "outputs": [],
   "source": [
    "sample_size = 10000\n",
    "runs = 250\n",
    "\n",
    "parameters = np.array([0.5 ** i for i in range(1, 3)])"
   ],
   "metadata": {
    "collapsed": false,
    "ExecuteTime": {
     "end_time": "2023-12-03T15:44:33.717767Z",
     "start_time": "2023-12-03T15:44:33.712024Z"
    }
   },
   "id": "dbf8f63c165eeb93"
  },
  {
   "cell_type": "code",
   "execution_count": 4,
   "outputs": [],
   "source": [
    "#samples = [\n",
    "#    LogMovingAverage(parameters=parameters, mu=0).generate_samples(sample_size)\n",
    "#    for _ in range(runs)]\n",
    "samples = [\n",
    "    MovingAverage(parameters=parameters, mean=2).generate_samples(sample_size)\n",
    "    for _ in range(runs)]"
   ],
   "metadata": {
    "collapsed": false,
    "ExecuteTime": {
     "end_time": "2023-12-03T15:44:41.389336Z",
     "start_time": "2023-12-03T15:44:33.714541Z"
    }
   },
   "id": "3bdb77e4284576f4"
  },
  {
   "cell_type": "code",
   "execution_count": 5,
   "outputs": [],
   "source": [
    "#phi = lambda x: np.log(x)\n",
    "#derivative_phi = lambda x: 1 / x\n",
    "phi = lambda x: np.exp(x)\n",
    "derivative_phi = lambda x: np.exp(x)"
   ],
   "metadata": {
    "collapsed": false,
    "ExecuteTime": {
     "end_time": "2023-12-03T15:44:41.394771Z",
     "start_time": "2023-12-03T15:44:41.390860Z"
    }
   },
   "id": "90b1bde2e80ac630"
  },
  {
   "cell_type": "code",
   "execution_count": 6,
   "outputs": [],
   "source": [
    "#time_series = LogMovingAverage(parameters=parameters, mu=0)\n",
    "time_series = MovingAverage(parameters=parameters, mean=2)\n",
    "mean = phi(time_series.mean)\n",
    "asymptotic_variance = time_series.asymptotic_variance*derivative_phi(time_series.mean)**2"
   ],
   "metadata": {
    "collapsed": false,
    "ExecuteTime": {
     "end_time": "2023-12-03T15:44:41.399511Z",
     "start_time": "2023-12-03T15:44:41.393665Z"
    }
   },
   "id": "3eb01414f3c72ac7"
  },
  {
   "cell_type": "markdown",
   "source": [
    "## Benchmark bootstraps"
   ],
   "metadata": {
    "collapsed": false
   },
   "id": "6821e096a7bed51d"
  },
  {
   "cell_type": "code",
   "execution_count": 7,
   "outputs": [
    {
     "name": "stdout",
     "output_type": "stream",
     "text": [
      "CPU times: user 65.7 ms, sys: 34.2 ms, total: 99.9 ms\n",
      "Wall time: 1min 47s\n"
     ]
    }
   ],
   "source": [
    "%%time\n",
    "%%capture\n",
    "# benchmark AR bootstrap\n",
    "p = Pool()\n",
    "\n",
    "evaluations_ar = p.map(lambda sample: evaluate_ar(sample, alpha=0.1, mean=mean, phi=phi), samples)\n",
    "\n",
    "result = np.array(evaluations_ar)\n",
    "\n",
    "coverage_probability.append(np.sum(result.T[1]) / runs)\n",
    "means_of_variance.append(np.mean(result.T[0]))\n",
    "std_of_variance.append(np.std(result.T[0]))\n"
   ],
   "metadata": {
    "collapsed": false,
    "ExecuteTime": {
     "end_time": "2023-12-03T15:46:29.161584Z",
     "start_time": "2023-12-03T15:44:41.397662Z"
    }
   },
   "id": "dafad42789da53e0"
  },
  {
   "cell_type": "code",
   "execution_count": 8,
   "outputs": [
    {
     "name": "stderr",
     "output_type": "stream",
     "text": [
      "/Library/Developer/CommandLineTools/Library/Frameworks/Python3.framework/Versions/3.9/lib/python3.9/multiprocessing/resource_tracker.py:216: UserWarning: resource_tracker: There appear to be 1 leaked semaphore objects to clean up at shutdown\n",
      "  warnings.warn('resource_tracker: There appear to be %d '\n",
      "/Library/Developer/CommandLineTools/Library/Frameworks/Python3.framework/Versions/3.9/lib/python3.9/multiprocessing/resource_tracker.py:216: UserWarning: resource_tracker: There appear to be 1 leaked semaphore objects to clean up at shutdown\n",
      "  warnings.warn('resource_tracker: There appear to be %d '\n",
      "/Library/Developer/CommandLineTools/Library/Frameworks/Python3.framework/Versions/3.9/lib/python3.9/multiprocessing/resource_tracker.py:216: UserWarning: resource_tracker: There appear to be 1 leaked semaphore objects to clean up at shutdown\n",
      "  warnings.warn('resource_tracker: There appear to be %d '\n",
      "/Library/Developer/CommandLineTools/Library/Frameworks/Python3.framework/Versions/3.9/lib/python3.9/multiprocessing/resource_tracker.py:216: UserWarning: resource_tracker: There appear to be 1 leaked semaphore objects to clean up at shutdown\n",
      "  warnings.warn('resource_tracker: There appear to be %d '\n",
      "/Library/Developer/CommandLineTools/Library/Frameworks/Python3.framework/Versions/3.9/lib/python3.9/multiprocessing/resource_tracker.py:216: UserWarning: resource_tracker: There appear to be 1 leaked semaphore objects to clean up at shutdown\n",
      "  warnings.warn('resource_tracker: There appear to be %d '\n",
      "/Library/Developer/CommandLineTools/Library/Frameworks/Python3.framework/Versions/3.9/lib/python3.9/multiprocessing/resource_tracker.py:216: UserWarning: resource_tracker: There appear to be 1 leaked semaphore objects to clean up at shutdown\n",
      "  warnings.warn('resource_tracker: There appear to be %d '\n",
      "/Library/Developer/CommandLineTools/Library/Frameworks/Python3.framework/Versions/3.9/lib/python3.9/multiprocessing/resource_tracker.py:216: UserWarning: resource_tracker: There appear to be 1 leaked semaphore objects to clean up at shutdown\n",
      "  warnings.warn('resource_tracker: There appear to be %d '\n",
      "/Library/Developer/CommandLineTools/Library/Frameworks/Python3.framework/Versions/3.9/lib/python3.9/multiprocessing/resource_tracker.py:216: UserWarning: resource_tracker: There appear to be 1 leaked semaphore objects to clean up at shutdown\n",
      "  warnings.warn('resource_tracker: There appear to be %d '\n"
     ]
    },
    {
     "name": "stdout",
     "output_type": "stream",
     "text": [
      "CPU times: user 60.4 ms, sys: 36 ms, total: 96.4 ms\n",
      "Wall time: 2.31 s\n"
     ]
    }
   ],
   "source": [
    "%%time\n",
    "%%capture\n",
    "# benchmark AR bootstrap\n",
    "p = Pool()\n",
    "\n",
    "evaluations_multiplier_iid = p.map(lambda sample: evaluate_multiplier_iid(sample, alpha=0.1, mean=mean, phi=phi),\n",
    "                                   samples)\n",
    "\n",
    "result = np.array(evaluations_multiplier_iid)\n",
    "\n",
    "coverage_probability.append(np.sum(result.T[1]) / runs)\n",
    "means_of_variance.append(np.mean(result.T[0]))\n",
    "std_of_variance.append(np.std(result.T[0]))"
   ],
   "metadata": {
    "collapsed": false,
    "ExecuteTime": {
     "end_time": "2023-12-03T15:46:31.475268Z",
     "start_time": "2023-12-03T15:46:29.194028Z"
    }
   },
   "id": "5cb2dbcf975964c2"
  },
  {
   "cell_type": "code",
   "execution_count": 9,
   "outputs": [
    {
     "name": "stderr",
     "output_type": "stream",
     "text": [
      "/Library/Developer/CommandLineTools/Library/Frameworks/Python3.framework/Versions/3.9/lib/python3.9/multiprocessing/resource_tracker.py:216: UserWarning: resource_tracker: There appear to be 1 leaked semaphore objects to clean up at shutdown\n",
      "  warnings.warn('resource_tracker: There appear to be %d '\n",
      "/Library/Developer/CommandLineTools/Library/Frameworks/Python3.framework/Versions/3.9/lib/python3.9/multiprocessing/resource_tracker.py:216: UserWarning: resource_tracker: There appear to be 1 leaked semaphore objects to clean up at shutdown\n",
      "  warnings.warn('resource_tracker: There appear to be %d '\n",
      "/Library/Developer/CommandLineTools/Library/Frameworks/Python3.framework/Versions/3.9/lib/python3.9/multiprocessing/resource_tracker.py:216: UserWarning: resource_tracker: There appear to be 1 leaked semaphore objects to clean up at shutdown\n",
      "  warnings.warn('resource_tracker: There appear to be %d '\n",
      "/Library/Developer/CommandLineTools/Library/Frameworks/Python3.framework/Versions/3.9/lib/python3.9/multiprocessing/resource_tracker.py:216: UserWarning: resource_tracker: There appear to be 1 leaked semaphore objects to clean up at shutdown\n",
      "  warnings.warn('resource_tracker: There appear to be %d '\n",
      "/Library/Developer/CommandLineTools/Library/Frameworks/Python3.framework/Versions/3.9/lib/python3.9/multiprocessing/resource_tracker.py:216: UserWarning: resource_tracker: There appear to be 1 leaked semaphore objects to clean up at shutdown\n",
      "  warnings.warn('resource_tracker: There appear to be %d '\n",
      "/Library/Developer/CommandLineTools/Library/Frameworks/Python3.framework/Versions/3.9/lib/python3.9/multiprocessing/resource_tracker.py:216: UserWarning: resource_tracker: There appear to be 1 leaked semaphore objects to clean up at shutdown\n",
      "  warnings.warn('resource_tracker: There appear to be %d '\n",
      "/Library/Developer/CommandLineTools/Library/Frameworks/Python3.framework/Versions/3.9/lib/python3.9/multiprocessing/resource_tracker.py:216: UserWarning: resource_tracker: There appear to be 1 leaked semaphore objects to clean up at shutdown\n",
      "  warnings.warn('resource_tracker: There appear to be %d '\n",
      "/Library/Developer/CommandLineTools/Library/Frameworks/Python3.framework/Versions/3.9/lib/python3.9/multiprocessing/resource_tracker.py:216: UserWarning: resource_tracker: There appear to be 1 leaked semaphore objects to clean up at shutdown\n",
      "  warnings.warn('resource_tracker: There appear to be %d '\n"
     ]
    },
    {
     "name": "stdout",
     "output_type": "stream",
     "text": [
      "CPU times: user 161 ms, sys: 98.5 ms, total: 259 ms\n",
      "Wall time: 50min 50s\n"
     ]
    }
   ],
   "source": [
    "%%time\n",
    "%%capture\n",
    "# benchmark AR bootstrap\n",
    "p = Pool()\n",
    "\n",
    "evaluations_ma = p.map(lambda sample: evaluate_ma(sample, alpha=0.1, mean=mean, phi=phi), samples)\n",
    "\n",
    "result = np.array(evaluations_ma)\n",
    "\n",
    "coverage_probability.append(np.sum(result.T[1]) / runs)\n",
    "means_of_variance.append(np.mean(result.T[0]))\n",
    "std_of_variance.append(np.std(result.T[0]))"
   ],
   "metadata": {
    "collapsed": false,
    "ExecuteTime": {
     "end_time": "2023-12-03T16:37:22.051529Z",
     "start_time": "2023-12-03T15:46:31.492203Z"
    }
   },
   "id": "652537ac5c7e0c9e"
  },
  {
   "cell_type": "markdown",
   "source": [
    "## Concatination result"
   ],
   "metadata": {
    "collapsed": false
   },
   "id": "f535e8ed17bf047d"
  },
  {
   "cell_type": "code",
   "execution_count": 10,
   "outputs": [],
   "source": [
    "benchmark = [asymptotic_variance,\n",
    "             sample_size] + means_of_variance + std_of_variance + [1 - 0.1] + coverage_probability"
   ],
   "metadata": {
    "collapsed": false,
    "ExecuteTime": {
     "end_time": "2023-12-03T16:37:22.060567Z",
     "start_time": "2023-12-03T16:37:22.054019Z"
    }
   },
   "id": "6e390c3c05c46f1d"
  },
  {
   "cell_type": "code",
   "execution_count": 11,
   "outputs": [],
   "source": [
    "benchmark = pd.DataFrame([benchmark], columns=pd.MultiIndex.from_tuples([\n",
    "                                                                            (\"mean\", \"Asymptotic variance\"),\n",
    "                                                                            (\"Sample size\", \"\")] +\n",
    "                                                                        [(\"mean\", name,) for name in\n",
    "                                                                         list_name_weights] +\n",
    "                                                                        [(\"std\", name,) for name in list_name_weights] +\n",
    "                                                                        [(\"In confidence interval\", \"Confidence level\")]\n",
    "                                                                        +\n",
    "                                                                        [(\"In confidence interval\", name,) for name in\n",
    "                                                                         list_name_weights]\n",
    "                                                                        )).set_index([\"Sample size\"])"
   ],
   "metadata": {
    "collapsed": false,
    "ExecuteTime": {
     "end_time": "2023-12-03T16:37:22.075077Z",
     "start_time": "2023-12-03T16:37:22.056610Z"
    }
   },
   "id": "80eb70c95278451"
  },
  {
   "cell_type": "code",
   "execution_count": 12,
   "outputs": [
    {
     "data": {
      "text/plain": "                           mean                                           std  \\\n            Asymptotic variance          AR Multiplier          MA         AR   \nSample size                                                                     \n10000                167.206834  163.254197   71.68121  163.481708  22.899622   \n\n                                  In confidence interval                    \\\n            Multiplier         MA       Confidence level     AR Multiplier   \nSample size                                                                  \n10000         7.090124  19.747737                    0.9  0.904      0.728   \n\n                    \n                MA  \nSample size         \n10000        0.908  ",
      "text/html": "<div>\n<style scoped>\n    .dataframe tbody tr th:only-of-type {\n        vertical-align: middle;\n    }\n\n    .dataframe tbody tr th {\n        vertical-align: top;\n    }\n\n    .dataframe thead tr th {\n        text-align: left;\n    }\n\n    .dataframe thead tr:last-of-type th {\n        text-align: right;\n    }\n</style>\n<table border=\"1\" class=\"dataframe\">\n  <thead>\n    <tr>\n      <th></th>\n      <th colspan=\"4\" halign=\"left\">mean</th>\n      <th colspan=\"3\" halign=\"left\">std</th>\n      <th colspan=\"4\" halign=\"left\">In confidence interval</th>\n    </tr>\n    <tr>\n      <th></th>\n      <th>Asymptotic variance</th>\n      <th>AR</th>\n      <th>Multiplier</th>\n      <th>MA</th>\n      <th>AR</th>\n      <th>Multiplier</th>\n      <th>MA</th>\n      <th>Confidence level</th>\n      <th>AR</th>\n      <th>Multiplier</th>\n      <th>MA</th>\n    </tr>\n    <tr>\n      <th>Sample size</th>\n      <th></th>\n      <th></th>\n      <th></th>\n      <th></th>\n      <th></th>\n      <th></th>\n      <th></th>\n      <th></th>\n      <th></th>\n      <th></th>\n      <th></th>\n    </tr>\n  </thead>\n  <tbody>\n    <tr>\n      <th>10000</th>\n      <td>167.206834</td>\n      <td>163.254197</td>\n      <td>71.68121</td>\n      <td>163.481708</td>\n      <td>22.899622</td>\n      <td>7.090124</td>\n      <td>19.747737</td>\n      <td>0.9</td>\n      <td>0.904</td>\n      <td>0.728</td>\n      <td>0.908</td>\n    </tr>\n  </tbody>\n</table>\n</div>"
     },
     "execution_count": 12,
     "metadata": {},
     "output_type": "execute_result"
    }
   ],
   "source": [
    "benchmark"
   ],
   "metadata": {
    "collapsed": false,
    "ExecuteTime": {
     "end_time": "2023-12-03T16:37:22.118293Z",
     "start_time": "2023-12-03T16:37:22.080570Z"
    }
   },
   "id": "b95eedd854ff640c"
  },
  {
   "cell_type": "code",
   "execution_count": 13,
   "outputs": [],
   "source": [
    "benchmark.to_csv(f\"./data/delta_method/benchmark_{sample_size}_exp.csv\")\n",
    "benchmark.to_pickle(f\"./data/delta_method/benchmark_{sample_size}_exp.pkl\")"
   ],
   "metadata": {
    "collapsed": false,
    "ExecuteTime": {
     "end_time": "2023-12-03T16:37:22.118605Z",
     "start_time": "2023-12-03T16:37:22.099064Z"
    }
   },
   "id": "fb5e172f4574883d"
  }
 ],
 "metadata": {
  "kernelspec": {
   "display_name": "Python 3",
   "language": "python",
   "name": "python3"
  },
  "language_info": {
   "codemirror_mode": {
    "name": "ipython",
    "version": 2
   },
   "file_extension": ".py",
   "mimetype": "text/x-python",
   "name": "python",
   "nbconvert_exporter": "python",
   "pygments_lexer": "ipython2",
   "version": "2.7.6"
  }
 },
 "nbformat": 4,
 "nbformat_minor": 5
}
