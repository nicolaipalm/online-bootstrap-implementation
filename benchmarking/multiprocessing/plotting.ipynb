{
 "cells": [
  {
   "cell_type": "code",
   "execution_count": null,
   "outputs": [],
   "source": [
    "from matplotlib import pyplot as plt\n",
    "import pandas as pd\n",
    "import scienceplots\n",
    "import matplotlib as mpl\n",
    "# Use the pgf backend (must be set before pyplot imported)\n",
    "mpl.use('pgf')"
   ],
   "metadata": {
    "collapsed": false
   },
   "id": "1de62d4f43ec1ae"
  },
  {
   "cell_type": "markdown",
   "source": [
    "# Performance validation"
   ],
   "metadata": {
    "collapsed": false
   },
   "id": "9809eae0047077a"
  },
  {
   "cell_type": "code",
   "execution_count": null,
   "outputs": [],
   "source": [
    "pd.set_option('display.max_columns', None)"
   ],
   "metadata": {
    "collapsed": false
   },
   "id": "6291a8525c9905fb"
  },
  {
   "cell_type": "code",
   "execution_count": null,
   "outputs": [],
   "source": [
    "names_dependence_coefficients = [\n",
    "    \"iid\",\n",
    "    \"MA(2)\",\n",
    "    \"MA(20)\",\n",
    "]"
   ],
   "metadata": {
    "collapsed": false
   },
   "id": "5514c4d68c9c2a10"
  },
  {
   "cell_type": "code",
   "execution_count": null,
   "outputs": [],
   "source": [
    "list_name_weights = ['AR bootstrap',\n",
    "                     'IID bootstrap',\n",
    "                     'MA bootstrap',\n",
    "                     ]"
   ],
   "metadata": {
    "collapsed": false
   },
   "id": "9be196551dccef26"
  },
  {
   "cell_type": "code",
   "execution_count": null,
   "outputs": [],
   "source": [
    "benchmark = pd.concat(\n",
    "    [pd.read_pickle(f\"./data/ma-process/benchmark_{sample_size}_\" + name + \".pkl\") for\n",
    "     name in\n",
    "     names_dependence_coefficients for sample_size in [1000, 2000, 5000, 10000]])"
   ],
   "metadata": {
    "collapsed": false
   },
   "id": "7abb04f60ed4226d"
  },
  {
   "cell_type": "code",
   "execution_count": null,
   "outputs": [],
   "source": [
    "benchmark"
   ],
   "metadata": {
    "collapsed": false
   },
   "id": "4d82cf6055613b87"
  },
  {
   "cell_type": "code",
   "execution_count": null,
   "id": "initial_id",
   "metadata": {
    "collapsed": true
   },
   "outputs": [],
   "source": [
    "plt.style.use(['science', 'ieee'])\n",
    "plt.rcParams.update({'font.size': 18})\n",
    "fig, a = plt.subplots(2, len(names_dependence_coefficients), figsize=(18, 12))\n",
    "\n",
    "for index, name_dependence_coefficient in enumerate(names_dependence_coefficients):\n",
    "    benchmark_wrt_dependence_coefficients = benchmark[benchmark[\"Stochastic process\"] == name_dependence_coefficient]\n",
    "    benchmark_wrt_dependence_coefficients[\"mean\"].plot(yerr=benchmark_wrt_dependence_coefficients[\"std\"],\n",
    "                                                       xlabel=\"\",\n",
    "                                                       sharex=False,\n",
    "                                                       legend=False,\n",
    "                                                       capsize=4,\n",
    "                                                       #fontsize=15,\n",
    "                                                       #ylabel=\"Bootstrapped variance\",\n",
    "                                                       ax=a[0][index])\n",
    "    benchmark_wrt_dependence_coefficients[\"In confidence interval\"].plot(xlabel=\"\",\n",
    "                                                                         #ylabel=\"Coverage probability\", \n",
    "                                                                         legend=False,\n",
    "                                                                         ax=a[1][index],\n",
    "                                                                         #fontsize=15,\n",
    "                                                                         ylim=[0.6, 1])\n",
    "\n",
    "    a[0][index].set_title(name_dependence_coefficient,\n",
    "                          #fontsize=15\n",
    "                          )\n",
    "\n",
    "a[0][0].set_ylabel(\"Bootstrapped variance\")\n",
    "a[1][int(len(names_dependence_coefficients) / 2)].set_xlabel(\"Sample size\")\n",
    "a[1][0].set_ylabel(\"Coverage probability\")\n",
    "a[0][-1].legend([\"Baseline\"] + list_name_weights)\n",
    "\n",
    "#plt.savefig('benchmark.pgf', format='pgf')\n",
    "#plt.tight_layout()"
   ]
  },
  {
   "cell_type": "code",
   "execution_count": null,
   "outputs": [],
   "source": [
    "plt.style.use(['science', 'ieee'])\n",
    "plt.rcParams.update({'font.size': 18})\n",
    "fig1, a1 = plt.subplots(1, len(names_dependence_coefficients), figsize=(18, 6))\n",
    "\n",
    "for index, name_dependence_coefficient in enumerate(names_dependence_coefficients):\n",
    "    benchmark_wrt_dependence_coefficients = benchmark[benchmark[\"Stochastic process\"] == name_dependence_coefficient]\n",
    "    benchmark_wrt_dependence_coefficients[\"mean\"].plot(yerr=benchmark_wrt_dependence_coefficients[\"std\"],\n",
    "                                                       xlabel=\"\",\n",
    "                                                       sharex=False,\n",
    "                                                       legend=False,\n",
    "                                                       capsize=4,\n",
    "                                                       #fontsize=15,\n",
    "                                                       #ylabel=\"Bootstrapped variance\",\n",
    "                                                       ax=a1[index])\n",
    "\n",
    "    a1[index].set_title(name_dependence_coefficient,\n",
    "                        #fontsize=15\n",
    "                        )\n",
    "a1[int(len(names_dependence_coefficients) / 2)].set_xlabel(\"Sample size\")\n",
    "a1[0].set_ylabel(\"Bootstrapped variance\")\n",
    "a1[-1].legend([\"Baseline\"] + list_name_weights, loc='center right', bbox_to_anchor=(1, 0.4))\n",
    "\n",
    "#plt.savefig('benchmark-variance.pgf', format='pgf')\n",
    "#plt.tight_layout()"
   ],
   "metadata": {
    "collapsed": false
   },
   "id": "69f3ca5b6f3464a"
  },
  {
   "cell_type": "code",
   "execution_count": null,
   "outputs": [],
   "source": [
    "plt.style.use(['science', 'ieee'])\n",
    "plt.rcParams.update({'font.size': 18})\n",
    "fig2, a2 = plt.subplots(1, len(names_dependence_coefficients), figsize=(18, 6))\n",
    "\n",
    "for index, name_dependence_coefficient in enumerate(names_dependence_coefficients):\n",
    "    benchmark_wrt_dependence_coefficients = benchmark[benchmark[\"Stochastic process\"] == name_dependence_coefficient]\n",
    "    benchmark_wrt_dependence_coefficients[\"In confidence interval\"].plot(xlabel=\"\",\n",
    "                                                                         #ylabel=\"Coverage probability\", \n",
    "                                                                         legend=False,\n",
    "                                                                         ax=a2[index],\n",
    "                                                                         #fontsize=15,\n",
    "                                                                         ylim=[0.6, 1])\n",
    "\n",
    "    a2[index].set_title(name_dependence_coefficient,\n",
    "                        #fontsize=15\n",
    "                        )\n",
    "a2[-1].legend([\"Baseline\"] + list_name_weights)\n",
    "a2[int(len(names_dependence_coefficients) / 2)].set_xlabel(\"Sample size\")\n",
    "a2[0].set_ylabel(\"Coverage probability\")\n",
    "\n",
    "#plt.savefig('benchmark-confidence.pgf', format='pgf')\n",
    "#plt.tight_layout()"
   ],
   "metadata": {
    "collapsed": false
   },
   "id": "977f95e8665d4c55"
  },
  {
   "cell_type": "markdown",
   "source": [
    "# MA-GARCH process"
   ],
   "metadata": {
    "collapsed": false
   },
   "id": "83a2e447e4eee41a"
  },
  {
   "cell_type": "code",
   "execution_count": null,
   "outputs": [],
   "source": [
    "benchmark_garch = pd.concat(\n",
    "    [pd.read_pickle(f\"./data/magarch-process/benchmark_{sample_size}_magarch11.pkl\") for sample_size in\n",
    "     [1000, 2000, 5000, 10000]])"
   ],
   "metadata": {
    "collapsed": false
   },
   "id": "51ccf9b0bd020122"
  },
  {
   "cell_type": "code",
   "execution_count": null,
   "outputs": [],
   "source": [
    "benchmark_garch"
   ],
   "metadata": {
    "collapsed": false
   },
   "id": "9cda1632bc31887f"
  },
  {
   "cell_type": "code",
   "execution_count": null,
   "outputs": [],
   "source": [
    "plt.style.use(['science', 'ieee'])\n",
    "plt.rcParams.update({'font.size': 18})\n",
    "fig, a = plt.subplots(1,2, figsize=(12, 6))\n",
    "\n",
    "benchmark_garch[\"mean\"].plot(yerr=benchmark_garch[\"std\"],\n",
    "                             xlabel=\"\",\n",
    "                             sharex=False,\n",
    "                             legend=False,\n",
    "                             capsize=4,\n",
    "                             #fontsize=15,\n",
    "                             #ylabel=\"Bootstrapped variance\",\n",
    "                             ax=a[0])\n",
    "benchmark_garch[\"In confidence interval\"].plot(xlabel=\"\",\n",
    "                                               #ylabel=\"Coverage probability\", \n",
    "                                               legend=False,\n",
    "                                               ax=a[1],\n",
    "                                               #fontsize=15,\n",
    "                                               ylim=[0.6, 1])\n",
    "\n",
    "a[0].set_ylabel(\"Bootstrapped variance\")\n",
    "a[0].set_xlabel(\"Sample size\")\n",
    "a[0].set_title(\"MA(2)-GARCH(1,1)\")\n",
    "a[1].set_xlabel(\"Sample size\")\n",
    "a[1].set_ylabel(\"Coverage probability\")\n",
    "a[1].legend([\"Baseline\"] + list_name_weights)\n",
    "\n",
    "\n",
    "plt.savefig('benchmark_ma-garch.pgf', format='pgf')\n",
    "#plt.tight_layout()"
   ],
   "metadata": {
    "collapsed": false
   },
   "id": "aa4b837b5208f594"
  },
  {
   "cell_type": "markdown",
   "source": [
    "# Delta method"
   ],
   "metadata": {
    "collapsed": false
   },
   "id": "31e6f659a10dcf62"
  },
  {
   "cell_type": "code",
   "execution_count": null,
   "outputs": [],
   "source": [
    "benchmark_delta_exp = pd.concat(\n",
    "    [pd.read_pickle(f\"./data/delta_method/benchmark_{sample_size}_exp.pkl\") for sample_size in\n",
    "     [1000, 2000, 5000, 10000]])"
   ],
   "metadata": {
    "collapsed": false
   },
   "id": "79ea9dc21ba20765"
  },
  {
   "cell_type": "code",
   "execution_count": null,
   "outputs": [],
   "source": [
    "benchmark_delta_exp"
   ],
   "metadata": {
    "collapsed": false
   },
   "id": "5d3aaeb1ef74a36b"
  },
  {
   "cell_type": "code",
   "execution_count": null,
   "outputs": [],
   "source": [
    "plt.style.use(['science', 'ieee'])\n",
    "plt.rcParams.update({'font.size': 18})\n",
    "fig, a = plt.subplots(1,2, figsize=(12, 6))\n",
    "\n",
    "benchmark_delta_exp[\"mean\"].plot(yerr=benchmark_delta_exp[\"std\"],\n",
    "                             xlabel=\"\",\n",
    "                             sharex=False,\n",
    "                             legend=False,\n",
    "                             capsize=4,\n",
    "                             #fontsize=15,\n",
    "                             #ylabel=\"Bootstrapped variance\",\n",
    "                             ax=a[0])\n",
    "benchmark_delta_exp[\"In confidence interval\"].plot(xlabel=\"\",\n",
    "                                               #ylabel=\"Coverage probability\", \n",
    "                                               legend=False,\n",
    "                                               ax=a[1],\n",
    "                                               #fontsize=15,\n",
    "                                               ylim=[0.6, 1])\n",
    "\n",
    "a[0].set_ylabel(\"Bootstrapped variance\")\n",
    "a[0].set_title(\"Exponential of sample average\")\n",
    "a[0].set_xlabel(\"Sample size\")\n",
    "a[1].set_xlabel(\"Sample size\")\n",
    "a[1].set_ylabel(\"Coverage probability\")\n",
    "a[1].legend([\"Baseline\"] + list_name_weights)\n",
    "\n",
    "#plt.savefig('benchmark_exp_ma.pgf', format='pgf')\n",
    "#plt.tight_layout()"
   ],
   "metadata": {
    "collapsed": false
   },
   "id": "285e09e0a6671a0f"
  },
  {
   "cell_type": "code",
   "execution_count": null,
   "outputs": [],
   "source": [
    "benchmark_delta = pd.concat(\n",
    "    [pd.read_pickle(f\"./data/delta_method/benchmark_{sample_size}.pkl\") for sample_size in\n",
    "     [1000, 2000, 5000, 10000]])"
   ],
   "metadata": {
    "collapsed": false
   },
   "id": "ba24a84e52a2191"
  },
  {
   "cell_type": "code",
   "execution_count": null,
   "outputs": [],
   "source": [
    "benchmark_delta"
   ],
   "metadata": {
    "collapsed": false
   },
   "id": "4719b1d76fe76b68"
  },
  {
   "cell_type": "code",
   "execution_count": null,
   "outputs": [],
   "source": [
    "plt.style.use(['science', 'ieee'])\n",
    "plt.rcParams.update({'font.size': 18})\n",
    "fig, a = plt.subplots(1,2, figsize=(12, 6))\n",
    "\n",
    "benchmark_delta[\"mean\"].plot(yerr=benchmark_delta[\"std\"],\n",
    "                             xlabel=\"\",\n",
    "                             sharex=False,\n",
    "                             legend=False,\n",
    "                             capsize=4,\n",
    "                             #fontsize=15,\n",
    "                             #ylabel=\"Bootstrapped variance\",\n",
    "                             ax=a[0])\n",
    "benchmark_delta[\"In confidence interval\"].plot(xlabel=\"\",\n",
    "                                               #ylabel=\"Coverage probability\", \n",
    "                                               legend=False,\n",
    "                                               ax=a[1],\n",
    "                                               #fontsize=15,\n",
    "                                               ylim=[0.6, 1])\n",
    "\n",
    "a[0].set_ylabel(\"Bootstrapped variance\")\n",
    "a[0].set_title(\"LogMeanExp of MA(2)\")\n",
    "a[0].set_xlabel(\"Sample size\")\n",
    "a[1].set_xlabel(\"Sample size\")\n",
    "a[1].set_ylabel(\"Coverage probability\")\n",
    "a[1].legend([\"Baseline\"] + list_name_weights)\n",
    "\n",
    "plt.savefig('benchmark_log_log_ma.pgf', format='pgf')\n",
    "#plt.tight_layout()"
   ],
   "metadata": {
    "collapsed": false
   },
   "id": "cbcbad6f89d6d6b7"
  },
  {
   "cell_type": "markdown",
   "source": [
    " # log-MA"
   ],
   "metadata": {
    "collapsed": false
   },
   "id": "13d1faffa9c989e7"
  },
  {
   "cell_type": "code",
   "execution_count": null,
   "outputs": [],
   "source": [
    "benchmark_log_ma = pd.concat(\n",
    "    [pd.read_pickle(f\"./data/log-ma/benchmark_{sample_size}_log_ma.pkl\") for sample_size in\n",
    "     [1000, 2000, 5000, 10000]])"
   ],
   "metadata": {
    "collapsed": false
   },
   "id": "fa50258a5a47632e"
  },
  {
   "cell_type": "code",
   "execution_count": null,
   "outputs": [],
   "source": [
    "benchmark_log_ma"
   ],
   "metadata": {
    "collapsed": false
   },
   "id": "cf742032ded93e54"
  },
  {
   "cell_type": "code",
   "execution_count": null,
   "outputs": [],
   "source": [
    "plt.style.use(['science', 'ieee'])\n",
    "plt.rcParams.update({'font.size': 18})\n",
    "fig, a = plt.subplots(1,2, figsize=(12, 6))\n",
    "\n",
    "benchmark_log_ma[\"mean\"].plot(yerr=benchmark_log_ma[\"std\"],\n",
    "                             xlabel=\"\",\n",
    "                             sharex=False,\n",
    "                             legend=False,\n",
    "                             capsize=4,\n",
    "                             #fontsize=15,\n",
    "                             #ylabel=\"Bootstrapped variance\",\n",
    "                             ax=a[0])\n",
    "benchmark_log_ma[\"In confidence interval\"].plot(xlabel=\"\",\n",
    "                                               #ylabel=\"Coverage probability\", \n",
    "                                               legend=False,\n",
    "                                               ax=a[1],\n",
    "                                               #fontsize=15,\n",
    "                                               ylim=[0.6, 1])\n",
    "\n",
    "a[0].set_ylabel(\"Bootstrapped variance\")\n",
    "a[0].set_title(\"log-MA\")\n",
    "a[0].set_xlabel(\"Sample size\")\n",
    "a[1].set_xlabel(\"Sample size\")\n",
    "a[1].set_ylabel(\"Coverage probability\")\n",
    "a[1].legend([\"Baseline\"] + list_name_weights)\n",
    "\n",
    "#plt.savefig('benchmark_log-ma.pgf', format='pgf')\n",
    "#plt.tight_layout()"
   ],
   "metadata": {
    "collapsed": false
   },
   "id": "5fe13263ef87f053"
  },
  {
   "cell_type": "markdown",
   "source": [
    "# Different hyperparameters beta"
   ],
   "metadata": {
    "collapsed": false
   },
   "id": "24e2ebaa2f4439c4"
  },
  {
   "cell_type": "code",
   "execution_count": null,
   "outputs": [],
   "source": [
    "benchmark_beta = pd.read_pickle(f\"./data/ma-process/benchmark_beta.pkl\")"
   ],
   "metadata": {
    "collapsed": false
   },
   "id": "6ced17e2be314a26"
  },
  {
   "cell_type": "code",
   "execution_count": null,
   "outputs": [],
   "source": [
    "plt.rcParams.update({'font.size': 8})\n",
    "benchmark_beta[\"Beta\"].T[\"bias-variance trade-off\"].plot(xlabel=\"Hyperparameter beta\",\n",
    "                                                         ylabel=\"Mean squared error\", )\n",
    "#plt.savefig('benchmark-beta.pgf', format='pgf')"
   ],
   "metadata": {
    "collapsed": false
   },
   "id": "4069e2c35e380a49"
  },
  {
   "cell_type": "markdown",
   "source": [
    "# Time analysis"
   ],
   "metadata": {
    "collapsed": false
   },
   "id": "5c68af0fce02996e"
  },
  {
   "cell_type": "code",
   "execution_count": null,
   "outputs": [],
   "source": [
    "benchmark_time = pd.read_pickle(f\"./data/ma-process/benchmark_time.pkl\")"
   ],
   "metadata": {
    "collapsed": false
   },
   "id": "31ed64f679d521ae"
  },
  {
   "cell_type": "code",
   "execution_count": null,
   "outputs": [],
   "source": [
    "benchmark_time.describe()"
   ],
   "metadata": {
    "collapsed": false
   },
   "id": "68a68cb4454fd4ce"
  },
  {
   "cell_type": "code",
   "execution_count": null,
   "outputs": [],
   "source": [
    "benchmark_time.plot(logy=True, ylabel=\"Time per update [sec]\", xlabel=\"Sample index\")\n",
    "#plt.savefig('benchmark-time.pgf', format='pgf')"
   ],
   "metadata": {
    "collapsed": false
   },
   "id": "962ba58209fd4f1d"
  }
 ],
 "metadata": {
  "kernelspec": {
   "display_name": "Python 3",
   "language": "python",
   "name": "python3"
  },
  "language_info": {
   "codemirror_mode": {
    "name": "ipython",
    "version": 2
   },
   "file_extension": ".py",
   "mimetype": "text/x-python",
   "name": "python",
   "nbconvert_exporter": "python",
   "pygments_lexer": "ipython2",
   "version": "2.7.6"
  }
 },
 "nbformat": 4,
 "nbformat_minor": 5
}
