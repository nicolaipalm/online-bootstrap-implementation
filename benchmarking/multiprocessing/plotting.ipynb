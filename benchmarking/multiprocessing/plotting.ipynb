{
 "cells": [
  {
   "cell_type": "code",
   "execution_count": 105,
   "outputs": [],
   "source": [
    "from matplotlib import pyplot as plt\n",
    "import pandas as pd\n",
    "import scienceplots\n",
    "import matplotlib as mpl\n",
    "# Use the pgf backend (must be set before pyplot imported)\n",
    "mpl.use('pgf')"
   ],
   "metadata": {
    "collapsed": false,
    "ExecuteTime": {
     "end_time": "2023-12-04T08:02:18.776836Z",
     "start_time": "2023-12-04T08:02:18.749986Z"
    }
   },
   "id": "1de62d4f43ec1ae"
  },
  {
   "cell_type": "markdown",
   "source": [
    "# Performance validation"
   ],
   "metadata": {
    "collapsed": false
   },
   "id": "9809eae0047077a"
  },
  {
   "cell_type": "code",
   "execution_count": 106,
   "outputs": [],
   "source": [
    "pd.set_option('display.max_columns', None)"
   ],
   "metadata": {
    "collapsed": false,
    "ExecuteTime": {
     "end_time": "2023-12-04T08:02:18.819048Z",
     "start_time": "2023-12-04T08:02:18.759138Z"
    }
   },
   "id": "6291a8525c9905fb"
  },
  {
   "cell_type": "code",
   "execution_count": 107,
   "outputs": [],
   "source": [
    "names_dependence_coefficients = [\n",
    "    \"iid\",\n",
    "    \"MA(2)\",\n",
    "    \"MA(20)\",\n",
    "]"
   ],
   "metadata": {
    "collapsed": false,
    "ExecuteTime": {
     "end_time": "2023-12-04T08:02:18.841764Z",
     "start_time": "2023-12-04T08:02:18.761800Z"
    }
   },
   "id": "5514c4d68c9c2a10"
  },
  {
   "cell_type": "code",
   "execution_count": 108,
   "outputs": [],
   "source": [
    "list_name_weights = ['AR bootstrap',\n",
    "                     'IID bootstrap',\n",
    "                     'MA bootstrap',\n",
    "                     ]"
   ],
   "metadata": {
    "collapsed": false,
    "ExecuteTime": {
     "end_time": "2023-12-04T08:02:18.890390Z",
     "start_time": "2023-12-04T08:02:18.765954Z"
    }
   },
   "id": "9be196551dccef26"
  },
  {
   "cell_type": "code",
   "execution_count": 109,
   "outputs": [],
   "source": [
    "benchmark = pd.concat(\n",
    "    [pd.read_pickle(f\"./data/ma-process/benchmark_{sample_size}_\" + name + \".pkl\") for\n",
    "     name in\n",
    "     names_dependence_coefficients for sample_size in [1000, 2000, 5000, 10000]])"
   ],
   "metadata": {
    "collapsed": false,
    "ExecuteTime": {
     "end_time": "2023-12-04T08:02:18.913320Z",
     "start_time": "2023-12-04T08:02:18.768623Z"
    }
   },
   "id": "7abb04f60ed4226d"
  },
  {
   "cell_type": "code",
   "execution_count": 110,
   "outputs": [
    {
     "data": {
      "text/plain": "            Stochastic process                mean                       \\\n                               Asymptotic variance        AR Multiplier   \nSample size                                                               \n1000                       iid            1.000000  1.057725   0.995228   \n2000                       iid            1.000000  1.041325   1.008949   \n5000                       iid            1.000000  1.018590   1.002500   \n10000                      iid            1.000000  1.007477   0.998964   \n1000                     MA(2)            3.062500  3.045368   1.311913   \n2000                     MA(2)            3.062500  2.948517   1.299458   \n5000                     MA(2)            3.062500  3.029598   1.304463   \n10000                    MA(2)            3.062500  3.001669   1.294772   \n1000                    MA(20)            3.999996  3.856286   1.341114   \n2000                    MA(20)            3.999996  3.799962   1.344280   \n5000                    MA(20)            3.999996  3.789530   1.323652   \n10000                   MA(20)            3.999996  3.853705   1.321688   \n\n                            std                      In confidence interval  \\\n                   MA        AR Multiplier        MA       Confidence level   \nSample size                                                                   \n1000         0.964952  0.196314   0.097033  0.151255                    0.9   \n2000         0.962410  0.165031   0.101586  0.140897                    0.9   \n5000         1.007950  0.139576   0.093686  0.129201                    0.9   \n10000        0.982821  0.119556   0.087990  0.102238                    0.9   \n1000         2.913353  0.588473   0.146798  0.458041                    0.9   \n2000         2.910358  0.499667   0.126655  0.408220                    0.9   \n5000         2.980667  0.424269   0.108806  0.397291                    0.9   \n10000        3.038297  0.370536   0.122601  0.292324                    0.9   \n1000         3.738213  0.735378   0.143474  0.633950                    0.9   \n2000         3.755376  0.644142   0.126844  0.579857                    0.9   \n5000         3.821806  0.551084   0.132855  0.513713                    0.9   \n10000        3.905081  0.511290   0.125412  0.415161                    0.9   \n\n                                      \n                AR Multiplier     MA  \nSample size                           \n1000         0.880      0.864  0.860  \n2000         0.884      0.880  0.860  \n5000         0.868      0.868  0.868  \n10000        0.904      0.908  0.904  \n1000         0.876      0.692  0.880  \n2000         0.892      0.696  0.908  \n5000         0.876      0.688  0.876  \n10000        0.876      0.700  0.884  \n1000         0.876      0.680  0.852  \n2000         0.864      0.612  0.860  \n5000         0.896      0.652  0.872  \n10000        0.884      0.652  0.904  ",
      "text/html": "<div>\n<style scoped>\n    .dataframe tbody tr th:only-of-type {\n        vertical-align: middle;\n    }\n\n    .dataframe tbody tr th {\n        vertical-align: top;\n    }\n\n    .dataframe thead tr th {\n        text-align: left;\n    }\n\n    .dataframe thead tr:last-of-type th {\n        text-align: right;\n    }\n</style>\n<table border=\"1\" class=\"dataframe\">\n  <thead>\n    <tr>\n      <th></th>\n      <th>Stochastic process</th>\n      <th colspan=\"4\" halign=\"left\">mean</th>\n      <th colspan=\"3\" halign=\"left\">std</th>\n      <th colspan=\"4\" halign=\"left\">In confidence interval</th>\n    </tr>\n    <tr>\n      <th></th>\n      <th></th>\n      <th>Asymptotic variance</th>\n      <th>AR</th>\n      <th>Multiplier</th>\n      <th>MA</th>\n      <th>AR</th>\n      <th>Multiplier</th>\n      <th>MA</th>\n      <th>Confidence level</th>\n      <th>AR</th>\n      <th>Multiplier</th>\n      <th>MA</th>\n    </tr>\n    <tr>\n      <th>Sample size</th>\n      <th></th>\n      <th></th>\n      <th></th>\n      <th></th>\n      <th></th>\n      <th></th>\n      <th></th>\n      <th></th>\n      <th></th>\n      <th></th>\n      <th></th>\n      <th></th>\n    </tr>\n  </thead>\n  <tbody>\n    <tr>\n      <th>1000</th>\n      <td>iid</td>\n      <td>1.000000</td>\n      <td>1.057725</td>\n      <td>0.995228</td>\n      <td>0.964952</td>\n      <td>0.196314</td>\n      <td>0.097033</td>\n      <td>0.151255</td>\n      <td>0.9</td>\n      <td>0.880</td>\n      <td>0.864</td>\n      <td>0.860</td>\n    </tr>\n    <tr>\n      <th>2000</th>\n      <td>iid</td>\n      <td>1.000000</td>\n      <td>1.041325</td>\n      <td>1.008949</td>\n      <td>0.962410</td>\n      <td>0.165031</td>\n      <td>0.101586</td>\n      <td>0.140897</td>\n      <td>0.9</td>\n      <td>0.884</td>\n      <td>0.880</td>\n      <td>0.860</td>\n    </tr>\n    <tr>\n      <th>5000</th>\n      <td>iid</td>\n      <td>1.000000</td>\n      <td>1.018590</td>\n      <td>1.002500</td>\n      <td>1.007950</td>\n      <td>0.139576</td>\n      <td>0.093686</td>\n      <td>0.129201</td>\n      <td>0.9</td>\n      <td>0.868</td>\n      <td>0.868</td>\n      <td>0.868</td>\n    </tr>\n    <tr>\n      <th>10000</th>\n      <td>iid</td>\n      <td>1.000000</td>\n      <td>1.007477</td>\n      <td>0.998964</td>\n      <td>0.982821</td>\n      <td>0.119556</td>\n      <td>0.087990</td>\n      <td>0.102238</td>\n      <td>0.9</td>\n      <td>0.904</td>\n      <td>0.908</td>\n      <td>0.904</td>\n    </tr>\n    <tr>\n      <th>1000</th>\n      <td>MA(2)</td>\n      <td>3.062500</td>\n      <td>3.045368</td>\n      <td>1.311913</td>\n      <td>2.913353</td>\n      <td>0.588473</td>\n      <td>0.146798</td>\n      <td>0.458041</td>\n      <td>0.9</td>\n      <td>0.876</td>\n      <td>0.692</td>\n      <td>0.880</td>\n    </tr>\n    <tr>\n      <th>2000</th>\n      <td>MA(2)</td>\n      <td>3.062500</td>\n      <td>2.948517</td>\n      <td>1.299458</td>\n      <td>2.910358</td>\n      <td>0.499667</td>\n      <td>0.126655</td>\n      <td>0.408220</td>\n      <td>0.9</td>\n      <td>0.892</td>\n      <td>0.696</td>\n      <td>0.908</td>\n    </tr>\n    <tr>\n      <th>5000</th>\n      <td>MA(2)</td>\n      <td>3.062500</td>\n      <td>3.029598</td>\n      <td>1.304463</td>\n      <td>2.980667</td>\n      <td>0.424269</td>\n      <td>0.108806</td>\n      <td>0.397291</td>\n      <td>0.9</td>\n      <td>0.876</td>\n      <td>0.688</td>\n      <td>0.876</td>\n    </tr>\n    <tr>\n      <th>10000</th>\n      <td>MA(2)</td>\n      <td>3.062500</td>\n      <td>3.001669</td>\n      <td>1.294772</td>\n      <td>3.038297</td>\n      <td>0.370536</td>\n      <td>0.122601</td>\n      <td>0.292324</td>\n      <td>0.9</td>\n      <td>0.876</td>\n      <td>0.700</td>\n      <td>0.884</td>\n    </tr>\n    <tr>\n      <th>1000</th>\n      <td>MA(20)</td>\n      <td>3.999996</td>\n      <td>3.856286</td>\n      <td>1.341114</td>\n      <td>3.738213</td>\n      <td>0.735378</td>\n      <td>0.143474</td>\n      <td>0.633950</td>\n      <td>0.9</td>\n      <td>0.876</td>\n      <td>0.680</td>\n      <td>0.852</td>\n    </tr>\n    <tr>\n      <th>2000</th>\n      <td>MA(20)</td>\n      <td>3.999996</td>\n      <td>3.799962</td>\n      <td>1.344280</td>\n      <td>3.755376</td>\n      <td>0.644142</td>\n      <td>0.126844</td>\n      <td>0.579857</td>\n      <td>0.9</td>\n      <td>0.864</td>\n      <td>0.612</td>\n      <td>0.860</td>\n    </tr>\n    <tr>\n      <th>5000</th>\n      <td>MA(20)</td>\n      <td>3.999996</td>\n      <td>3.789530</td>\n      <td>1.323652</td>\n      <td>3.821806</td>\n      <td>0.551084</td>\n      <td>0.132855</td>\n      <td>0.513713</td>\n      <td>0.9</td>\n      <td>0.896</td>\n      <td>0.652</td>\n      <td>0.872</td>\n    </tr>\n    <tr>\n      <th>10000</th>\n      <td>MA(20)</td>\n      <td>3.999996</td>\n      <td>3.853705</td>\n      <td>1.321688</td>\n      <td>3.905081</td>\n      <td>0.511290</td>\n      <td>0.125412</td>\n      <td>0.415161</td>\n      <td>0.9</td>\n      <td>0.884</td>\n      <td>0.652</td>\n      <td>0.904</td>\n    </tr>\n  </tbody>\n</table>\n</div>"
     },
     "execution_count": 110,
     "metadata": {},
     "output_type": "execute_result"
    }
   ],
   "source": [
    "benchmark"
   ],
   "metadata": {
    "collapsed": false,
    "ExecuteTime": {
     "end_time": "2023-12-04T08:02:18.918275Z",
     "start_time": "2023-12-04T08:02:18.787722Z"
    }
   },
   "id": "4d82cf6055613b87"
  },
  {
   "cell_type": "code",
   "execution_count": 111,
   "id": "initial_id",
   "metadata": {
    "collapsed": true,
    "ExecuteTime": {
     "end_time": "2023-12-04T08:02:19.397388Z",
     "start_time": "2023-12-04T08:02:18.804191Z"
    }
   },
   "outputs": [
    {
     "data": {
      "text/plain": "<matplotlib.legend.Legend at 0x13e7ea040>"
     },
     "execution_count": 111,
     "metadata": {},
     "output_type": "execute_result"
    }
   ],
   "source": [
    "plt.style.use(['science', 'ieee'])\n",
    "plt.rcParams.update({'font.size': 18})\n",
    "fig, a = plt.subplots(2, len(names_dependence_coefficients), figsize=(18, 12))\n",
    "\n",
    "for index, name_dependence_coefficient in enumerate(names_dependence_coefficients):\n",
    "    benchmark_wrt_dependence_coefficients = benchmark[benchmark[\"Stochastic process\"] == name_dependence_coefficient]\n",
    "    benchmark_wrt_dependence_coefficients[\"mean\"].plot(yerr=benchmark_wrt_dependence_coefficients[\"std\"],\n",
    "                                                       xlabel=\"\",\n",
    "                                                       sharex=False,\n",
    "                                                       legend=False,\n",
    "                                                       capsize=4,\n",
    "                                                       #fontsize=15,\n",
    "                                                       #ylabel=\"Bootstrapped variance\",\n",
    "                                                       ax=a[0][index])\n",
    "    benchmark_wrt_dependence_coefficients[\"In confidence interval\"].plot(xlabel=\"\",\n",
    "                                                                         #ylabel=\"Coverage probability\", \n",
    "                                                                         legend=False,\n",
    "                                                                         ax=a[1][index],\n",
    "                                                                         #fontsize=15,\n",
    "                                                                         ylim=[0.6, 1])\n",
    "\n",
    "    a[0][index].set_title(name_dependence_coefficient,\n",
    "                          #fontsize=15\n",
    "                          )\n",
    "\n",
    "a[0][0].set_ylabel(\"Bootstrapped variance\")\n",
    "a[1][int(len(names_dependence_coefficients) / 2)].set_xlabel(\"Sample size\")\n",
    "a[1][0].set_ylabel(\"Coverage probability\")\n",
    "a[0][-1].legend([\"Baseline\"] + list_name_weights)\n",
    "\n",
    "#plt.savefig('benchmark.pgf', format='pgf')\n",
    "#plt.tight_layout()"
   ]
  },
  {
   "cell_type": "code",
   "execution_count": 112,
   "outputs": [
    {
     "data": {
      "text/plain": "<matplotlib.legend.Legend at 0x14dde5b50>"
     },
     "execution_count": 112,
     "metadata": {},
     "output_type": "execute_result"
    }
   ],
   "source": [
    "plt.style.use(['science', 'ieee'])\n",
    "plt.rcParams.update({'font.size': 18})\n",
    "fig1, a1 = plt.subplots(1, len(names_dependence_coefficients), figsize=(18, 6))\n",
    "\n",
    "for index, name_dependence_coefficient in enumerate(names_dependence_coefficients):\n",
    "    benchmark_wrt_dependence_coefficients = benchmark[benchmark[\"Stochastic process\"] == name_dependence_coefficient]\n",
    "    benchmark_wrt_dependence_coefficients[\"mean\"].plot(yerr=benchmark_wrt_dependence_coefficients[\"std\"],\n",
    "                                                       xlabel=\"\",\n",
    "                                                       sharex=False,\n",
    "                                                       legend=False,\n",
    "                                                       capsize=4,\n",
    "                                                       #fontsize=15,\n",
    "                                                       #ylabel=\"Bootstrapped variance\",\n",
    "                                                       ax=a1[index])\n",
    "\n",
    "    a1[index].set_title(name_dependence_coefficient,\n",
    "                        #fontsize=15\n",
    "                        )\n",
    "a1[int(len(names_dependence_coefficients) / 2)].set_xlabel(\"Sample size\")\n",
    "a1[0].set_ylabel(\"Bootstrapped variance\")\n",
    "a1[-1].legend([\"Baseline\"] + list_name_weights, loc='center right', bbox_to_anchor=(1, 0.4))\n",
    "\n",
    "#plt.savefig('benchmark-variance.pgf', format='pgf')\n",
    "#plt.tight_layout()"
   ],
   "metadata": {
    "collapsed": false,
    "ExecuteTime": {
     "end_time": "2023-12-04T08:02:19.576159Z",
     "start_time": "2023-12-04T08:02:19.416863Z"
    }
   },
   "id": "69f3ca5b6f3464a"
  },
  {
   "cell_type": "code",
   "execution_count": 113,
   "outputs": [
    {
     "data": {
      "text/plain": "Text(0, 0.5, 'Coverage probability')"
     },
     "execution_count": 113,
     "metadata": {},
     "output_type": "execute_result"
    }
   ],
   "source": [
    "plt.style.use(['science', 'ieee'])\n",
    "plt.rcParams.update({'font.size': 18})\n",
    "fig2, a2 = plt.subplots(1, len(names_dependence_coefficients), figsize=(18, 6))\n",
    "\n",
    "for index, name_dependence_coefficient in enumerate(names_dependence_coefficients):\n",
    "    benchmark_wrt_dependence_coefficients = benchmark[benchmark[\"Stochastic process\"] == name_dependence_coefficient]\n",
    "    benchmark_wrt_dependence_coefficients[\"In confidence interval\"].plot(xlabel=\"\",\n",
    "                                                                         #ylabel=\"Coverage probability\", \n",
    "                                                                         legend=False,\n",
    "                                                                         ax=a2[index],\n",
    "                                                                         #fontsize=15,\n",
    "                                                                         ylim=[0.6, 1])\n",
    "\n",
    "    a2[index].set_title(name_dependence_coefficient,\n",
    "                        #fontsize=15\n",
    "                        )\n",
    "a2[-1].legend([\"Baseline\"] + list_name_weights)\n",
    "a2[int(len(names_dependence_coefficients) / 2)].set_xlabel(\"Sample size\")\n",
    "a2[0].set_ylabel(\"Coverage probability\")\n",
    "\n",
    "#plt.savefig('benchmark-confidence.pgf', format='pgf')\n",
    "#plt.tight_layout()"
   ],
   "metadata": {
    "collapsed": false,
    "ExecuteTime": {
     "end_time": "2023-12-04T08:02:19.761145Z",
     "start_time": "2023-12-04T08:02:19.575635Z"
    }
   },
   "id": "977f95e8665d4c55"
  },
  {
   "cell_type": "markdown",
   "source": [
    "# MA-GARCH process"
   ],
   "metadata": {
    "collapsed": false
   },
   "id": "83a2e447e4eee41a"
  },
  {
   "cell_type": "code",
   "execution_count": 114,
   "outputs": [],
   "source": [
    "benchmark_garch = pd.concat(\n",
    "    [pd.read_pickle(f\"./data/magarch-process/benchmark_{sample_size}_magarch11.pkl\") for sample_size in\n",
    "     [1000, 2000, 5000, 10000]])"
   ],
   "metadata": {
    "collapsed": false,
    "ExecuteTime": {
     "end_time": "2023-12-04T08:02:19.768155Z",
     "start_time": "2023-12-04T08:02:19.761550Z"
    }
   },
   "id": "51ccf9b0bd020122"
  },
  {
   "cell_type": "code",
   "execution_count": 115,
   "outputs": [
    {
     "data": {
      "text/plain": "                           mean                                      std  \\\n            Asymptotic variance        AR Multiplier        MA        AR   \nSample size                                                                \n1000                      6.125  5.973081   2.646530  5.705531  1.314419   \n2000                      6.125  5.989068   2.625613  5.993109  1.085204   \n5000                      6.125  6.015393   2.629021  6.054815  0.893706   \n10000                     6.125  5.983792   2.627601  6.071441  0.756382   \n\n                                 In confidence interval                    \\\n            Multiplier        MA       Confidence level     AR Multiplier   \nSample size                                                                 \n1000          0.340380  1.034313                    0.9  0.868      0.648   \n2000          0.269981  0.999144                    0.9  0.864      0.692   \n5000          0.270051  0.830053                    0.9  0.888      0.732   \n10000         0.238792  0.715537                    0.9  0.884      0.720   \n\n                    \n                MA  \nSample size         \n1000         0.840  \n2000         0.868  \n5000         0.892  \n10000        0.900  ",
      "text/html": "<div>\n<style scoped>\n    .dataframe tbody tr th:only-of-type {\n        vertical-align: middle;\n    }\n\n    .dataframe tbody tr th {\n        vertical-align: top;\n    }\n\n    .dataframe thead tr th {\n        text-align: left;\n    }\n\n    .dataframe thead tr:last-of-type th {\n        text-align: right;\n    }\n</style>\n<table border=\"1\" class=\"dataframe\">\n  <thead>\n    <tr>\n      <th></th>\n      <th colspan=\"4\" halign=\"left\">mean</th>\n      <th colspan=\"3\" halign=\"left\">std</th>\n      <th colspan=\"4\" halign=\"left\">In confidence interval</th>\n    </tr>\n    <tr>\n      <th></th>\n      <th>Asymptotic variance</th>\n      <th>AR</th>\n      <th>Multiplier</th>\n      <th>MA</th>\n      <th>AR</th>\n      <th>Multiplier</th>\n      <th>MA</th>\n      <th>Confidence level</th>\n      <th>AR</th>\n      <th>Multiplier</th>\n      <th>MA</th>\n    </tr>\n    <tr>\n      <th>Sample size</th>\n      <th></th>\n      <th></th>\n      <th></th>\n      <th></th>\n      <th></th>\n      <th></th>\n      <th></th>\n      <th></th>\n      <th></th>\n      <th></th>\n      <th></th>\n    </tr>\n  </thead>\n  <tbody>\n    <tr>\n      <th>1000</th>\n      <td>6.125</td>\n      <td>5.973081</td>\n      <td>2.646530</td>\n      <td>5.705531</td>\n      <td>1.314419</td>\n      <td>0.340380</td>\n      <td>1.034313</td>\n      <td>0.9</td>\n      <td>0.868</td>\n      <td>0.648</td>\n      <td>0.840</td>\n    </tr>\n    <tr>\n      <th>2000</th>\n      <td>6.125</td>\n      <td>5.989068</td>\n      <td>2.625613</td>\n      <td>5.993109</td>\n      <td>1.085204</td>\n      <td>0.269981</td>\n      <td>0.999144</td>\n      <td>0.9</td>\n      <td>0.864</td>\n      <td>0.692</td>\n      <td>0.868</td>\n    </tr>\n    <tr>\n      <th>5000</th>\n      <td>6.125</td>\n      <td>6.015393</td>\n      <td>2.629021</td>\n      <td>6.054815</td>\n      <td>0.893706</td>\n      <td>0.270051</td>\n      <td>0.830053</td>\n      <td>0.9</td>\n      <td>0.888</td>\n      <td>0.732</td>\n      <td>0.892</td>\n    </tr>\n    <tr>\n      <th>10000</th>\n      <td>6.125</td>\n      <td>5.983792</td>\n      <td>2.627601</td>\n      <td>6.071441</td>\n      <td>0.756382</td>\n      <td>0.238792</td>\n      <td>0.715537</td>\n      <td>0.9</td>\n      <td>0.884</td>\n      <td>0.720</td>\n      <td>0.900</td>\n    </tr>\n  </tbody>\n</table>\n</div>"
     },
     "execution_count": 115,
     "metadata": {},
     "output_type": "execute_result"
    }
   ],
   "source": [
    "benchmark_garch"
   ],
   "metadata": {
    "collapsed": false,
    "ExecuteTime": {
     "end_time": "2023-12-04T08:02:19.775138Z",
     "start_time": "2023-12-04T08:02:19.771259Z"
    }
   },
   "id": "9cda1632bc31887f"
  },
  {
   "cell_type": "code",
   "execution_count": 116,
   "outputs": [],
   "source": [
    "plt.style.use(['science', 'ieee'])\n",
    "plt.rcParams.update({'font.size': 18})\n",
    "fig, a = plt.subplots(1,2, figsize=(12, 6))\n",
    "\n",
    "benchmark_garch[\"mean\"].plot(yerr=benchmark_garch[\"std\"],\n",
    "                             xlabel=\"\",\n",
    "                             sharex=False,\n",
    "                             legend=False,\n",
    "                             capsize=4,\n",
    "                             #fontsize=15,\n",
    "                             #ylabel=\"Bootstrapped variance\",\n",
    "                             ax=a[0])\n",
    "benchmark_garch[\"In confidence interval\"].plot(xlabel=\"\",\n",
    "                                               #ylabel=\"Coverage probability\", \n",
    "                                               legend=False,\n",
    "                                               ax=a[1],\n",
    "                                               #fontsize=15,\n",
    "                                               ylim=[0.6, 1])\n",
    "\n",
    "a[0].set_ylabel(\"Bootstrapped variance\")\n",
    "a[0].set_xlabel(\"Sample size\")\n",
    "a[0].set_title(\"MA(2)-GARCH(1,1)\")\n",
    "a[1].set_xlabel(\"Sample size\")\n",
    "a[1].set_ylabel(\"Coverage probability\")\n",
    "a[1].legend([\"Baseline\"] + list_name_weights)\n",
    "\n",
    "\n",
    "plt.savefig('benchmark_ma-garch.pgf', format='pgf')\n",
    "#plt.tight_layout()"
   ],
   "metadata": {
    "collapsed": false,
    "ExecuteTime": {
     "end_time": "2023-12-04T08:02:20.025184Z",
     "start_time": "2023-12-04T08:02:19.780303Z"
    }
   },
   "id": "aa4b837b5208f594"
  },
  {
   "cell_type": "markdown",
   "source": [
    "# Delta method"
   ],
   "metadata": {
    "collapsed": false
   },
   "id": "31e6f659a10dcf62"
  },
  {
   "cell_type": "code",
   "execution_count": 117,
   "outputs": [],
   "source": [
    "benchmark_delta_exp = pd.concat(\n",
    "    [pd.read_pickle(f\"./data/delta_method/benchmark_{sample_size}_exp.pkl\") for sample_size in\n",
    "     [1000, 2000, 5000, 10000]])"
   ],
   "metadata": {
    "collapsed": false,
    "ExecuteTime": {
     "end_time": "2023-12-04T08:02:20.032610Z",
     "start_time": "2023-12-04T08:02:20.025998Z"
    }
   },
   "id": "79ea9dc21ba20765"
  },
  {
   "cell_type": "code",
   "execution_count": 118,
   "outputs": [
    {
     "data": {
      "text/plain": "                           mean                                           std  \\\n            Asymptotic variance          AR Multiplier          MA         AR   \nSample size                                                                     \n1000                 167.206834  162.693534  71.455002  161.385420  36.297064   \n2000                 167.206834  162.039565  70.927558  163.618877  29.411724   \n5000                 167.206834  165.212331  71.307749  163.321356  23.504127   \n10000                167.206834  163.254197  71.681210  163.481708  22.899622   \n\n                                  In confidence interval                    \\\n            Multiplier         MA       Confidence level     AR Multiplier   \nSample size                                                                  \n1000         10.323360  32.263390                    0.9  0.900      0.728   \n2000          9.587613  25.557245                    0.9  0.852      0.680   \n5000          7.236098  24.230298                    0.9  0.880      0.708   \n10000         7.090124  19.747737                    0.9  0.904      0.728   \n\n                    \n                MA  \nSample size         \n1000         0.892  \n2000         0.836  \n5000         0.876  \n10000        0.908  ",
      "text/html": "<div>\n<style scoped>\n    .dataframe tbody tr th:only-of-type {\n        vertical-align: middle;\n    }\n\n    .dataframe tbody tr th {\n        vertical-align: top;\n    }\n\n    .dataframe thead tr th {\n        text-align: left;\n    }\n\n    .dataframe thead tr:last-of-type th {\n        text-align: right;\n    }\n</style>\n<table border=\"1\" class=\"dataframe\">\n  <thead>\n    <tr>\n      <th></th>\n      <th colspan=\"4\" halign=\"left\">mean</th>\n      <th colspan=\"3\" halign=\"left\">std</th>\n      <th colspan=\"4\" halign=\"left\">In confidence interval</th>\n    </tr>\n    <tr>\n      <th></th>\n      <th>Asymptotic variance</th>\n      <th>AR</th>\n      <th>Multiplier</th>\n      <th>MA</th>\n      <th>AR</th>\n      <th>Multiplier</th>\n      <th>MA</th>\n      <th>Confidence level</th>\n      <th>AR</th>\n      <th>Multiplier</th>\n      <th>MA</th>\n    </tr>\n    <tr>\n      <th>Sample size</th>\n      <th></th>\n      <th></th>\n      <th></th>\n      <th></th>\n      <th></th>\n      <th></th>\n      <th></th>\n      <th></th>\n      <th></th>\n      <th></th>\n      <th></th>\n    </tr>\n  </thead>\n  <tbody>\n    <tr>\n      <th>1000</th>\n      <td>167.206834</td>\n      <td>162.693534</td>\n      <td>71.455002</td>\n      <td>161.385420</td>\n      <td>36.297064</td>\n      <td>10.323360</td>\n      <td>32.263390</td>\n      <td>0.9</td>\n      <td>0.900</td>\n      <td>0.728</td>\n      <td>0.892</td>\n    </tr>\n    <tr>\n      <th>2000</th>\n      <td>167.206834</td>\n      <td>162.039565</td>\n      <td>70.927558</td>\n      <td>163.618877</td>\n      <td>29.411724</td>\n      <td>9.587613</td>\n      <td>25.557245</td>\n      <td>0.9</td>\n      <td>0.852</td>\n      <td>0.680</td>\n      <td>0.836</td>\n    </tr>\n    <tr>\n      <th>5000</th>\n      <td>167.206834</td>\n      <td>165.212331</td>\n      <td>71.307749</td>\n      <td>163.321356</td>\n      <td>23.504127</td>\n      <td>7.236098</td>\n      <td>24.230298</td>\n      <td>0.9</td>\n      <td>0.880</td>\n      <td>0.708</td>\n      <td>0.876</td>\n    </tr>\n    <tr>\n      <th>10000</th>\n      <td>167.206834</td>\n      <td>163.254197</td>\n      <td>71.681210</td>\n      <td>163.481708</td>\n      <td>22.899622</td>\n      <td>7.090124</td>\n      <td>19.747737</td>\n      <td>0.9</td>\n      <td>0.904</td>\n      <td>0.728</td>\n      <td>0.908</td>\n    </tr>\n  </tbody>\n</table>\n</div>"
     },
     "execution_count": 118,
     "metadata": {},
     "output_type": "execute_result"
    }
   ],
   "source": [
    "benchmark_delta_exp"
   ],
   "metadata": {
    "collapsed": false,
    "ExecuteTime": {
     "end_time": "2023-12-04T08:02:20.039995Z",
     "start_time": "2023-12-04T08:02:20.035317Z"
    }
   },
   "id": "5d3aaeb1ef74a36b"
  },
  {
   "cell_type": "code",
   "execution_count": 119,
   "outputs": [
    {
     "data": {
      "text/plain": "<matplotlib.legend.Legend at 0x14ae1d460>"
     },
     "execution_count": 119,
     "metadata": {},
     "output_type": "execute_result"
    }
   ],
   "source": [
    "plt.style.use(['science', 'ieee'])\n",
    "plt.rcParams.update({'font.size': 18})\n",
    "fig, a = plt.subplots(1,2, figsize=(12, 6))\n",
    "\n",
    "benchmark_delta_exp[\"mean\"].plot(yerr=benchmark_delta_exp[\"std\"],\n",
    "                             xlabel=\"\",\n",
    "                             sharex=False,\n",
    "                             legend=False,\n",
    "                             capsize=4,\n",
    "                             #fontsize=15,\n",
    "                             #ylabel=\"Bootstrapped variance\",\n",
    "                             ax=a[0])\n",
    "benchmark_delta_exp[\"In confidence interval\"].plot(xlabel=\"\",\n",
    "                                               #ylabel=\"Coverage probability\", \n",
    "                                               legend=False,\n",
    "                                               ax=a[1],\n",
    "                                               #fontsize=15,\n",
    "                                               ylim=[0.6, 1])\n",
    "\n",
    "a[0].set_ylabel(\"Bootstrapped variance\")\n",
    "a[0].set_title(\"Exponential of sample average\")\n",
    "a[0].set_xlabel(\"Sample size\")\n",
    "a[1].set_xlabel(\"Sample size\")\n",
    "a[1].set_ylabel(\"Coverage probability\")\n",
    "a[1].legend([\"Baseline\"] + list_name_weights)\n",
    "\n",
    "#plt.savefig('benchmark_exp_ma.pgf', format='pgf')\n",
    "#plt.tight_layout()"
   ],
   "metadata": {
    "collapsed": false,
    "ExecuteTime": {
     "end_time": "2023-12-04T08:02:20.199662Z",
     "start_time": "2023-12-04T08:02:20.053759Z"
    }
   },
   "id": "285e09e0a6671a0f"
  },
  {
   "cell_type": "code",
   "execution_count": 120,
   "outputs": [],
   "source": [
    "benchmark_delta = pd.concat(\n",
    "    [pd.read_pickle(f\"./data/delta_method/benchmark_{sample_size}.pkl\") for sample_size in\n",
    "     [1000, 2000, 5000, 10000]])"
   ],
   "metadata": {
    "collapsed": false,
    "ExecuteTime": {
     "end_time": "2023-12-04T08:02:20.200056Z",
     "start_time": "2023-12-04T08:02:20.170542Z"
    }
   },
   "id": "ba24a84e52a2191"
  },
  {
   "cell_type": "code",
   "execution_count": 121,
   "outputs": [
    {
     "data": {
      "text/plain": "                           mean                                      std  \\\n            Asymptotic variance        AR Multiplier        MA        AR   \nSample size                                                                \n1000                   5.019993  5.023695   2.733598  4.602411  1.838574   \n2000                   5.019993  4.857865   2.659010  4.729470  1.570255   \n5000                   5.019993  5.030787   2.744698  4.931411  1.048465   \n10000                  5.019993  5.131649   2.750442  4.998425  0.946900   \n\n                                 In confidence interval                    \\\n            Multiplier        MA       Confidence level     AR Multiplier   \nSample size                                                                 \n1000          0.991362  1.533481                    0.9  0.892      0.768   \n2000          0.832693  1.518732                    0.9  0.860      0.728   \n5000          0.559428  0.989028                    0.9  0.856      0.736   \n10000         0.533125  0.836823                    0.9  0.872      0.724   \n\n                    \n                MA  \nSample size         \n1000         0.884  \n2000         0.828  \n5000         0.848  \n10000        0.848  ",
      "text/html": "<div>\n<style scoped>\n    .dataframe tbody tr th:only-of-type {\n        vertical-align: middle;\n    }\n\n    .dataframe tbody tr th {\n        vertical-align: top;\n    }\n\n    .dataframe thead tr th {\n        text-align: left;\n    }\n\n    .dataframe thead tr:last-of-type th {\n        text-align: right;\n    }\n</style>\n<table border=\"1\" class=\"dataframe\">\n  <thead>\n    <tr>\n      <th></th>\n      <th colspan=\"4\" halign=\"left\">mean</th>\n      <th colspan=\"3\" halign=\"left\">std</th>\n      <th colspan=\"4\" halign=\"left\">In confidence interval</th>\n    </tr>\n    <tr>\n      <th></th>\n      <th>Asymptotic variance</th>\n      <th>AR</th>\n      <th>Multiplier</th>\n      <th>MA</th>\n      <th>AR</th>\n      <th>Multiplier</th>\n      <th>MA</th>\n      <th>Confidence level</th>\n      <th>AR</th>\n      <th>Multiplier</th>\n      <th>MA</th>\n    </tr>\n    <tr>\n      <th>Sample size</th>\n      <th></th>\n      <th></th>\n      <th></th>\n      <th></th>\n      <th></th>\n      <th></th>\n      <th></th>\n      <th></th>\n      <th></th>\n      <th></th>\n      <th></th>\n    </tr>\n  </thead>\n  <tbody>\n    <tr>\n      <th>1000</th>\n      <td>5.019993</td>\n      <td>5.023695</td>\n      <td>2.733598</td>\n      <td>4.602411</td>\n      <td>1.838574</td>\n      <td>0.991362</td>\n      <td>1.533481</td>\n      <td>0.9</td>\n      <td>0.892</td>\n      <td>0.768</td>\n      <td>0.884</td>\n    </tr>\n    <tr>\n      <th>2000</th>\n      <td>5.019993</td>\n      <td>4.857865</td>\n      <td>2.659010</td>\n      <td>4.729470</td>\n      <td>1.570255</td>\n      <td>0.832693</td>\n      <td>1.518732</td>\n      <td>0.9</td>\n      <td>0.860</td>\n      <td>0.728</td>\n      <td>0.828</td>\n    </tr>\n    <tr>\n      <th>5000</th>\n      <td>5.019993</td>\n      <td>5.030787</td>\n      <td>2.744698</td>\n      <td>4.931411</td>\n      <td>1.048465</td>\n      <td>0.559428</td>\n      <td>0.989028</td>\n      <td>0.9</td>\n      <td>0.856</td>\n      <td>0.736</td>\n      <td>0.848</td>\n    </tr>\n    <tr>\n      <th>10000</th>\n      <td>5.019993</td>\n      <td>5.131649</td>\n      <td>2.750442</td>\n      <td>4.998425</td>\n      <td>0.946900</td>\n      <td>0.533125</td>\n      <td>0.836823</td>\n      <td>0.9</td>\n      <td>0.872</td>\n      <td>0.724</td>\n      <td>0.848</td>\n    </tr>\n  </tbody>\n</table>\n</div>"
     },
     "execution_count": 121,
     "metadata": {},
     "output_type": "execute_result"
    }
   ],
   "source": [
    "benchmark_delta"
   ],
   "metadata": {
    "collapsed": false,
    "ExecuteTime": {
     "end_time": "2023-12-04T08:02:20.201158Z",
     "start_time": "2023-12-04T08:02:20.183458Z"
    }
   },
   "id": "4719b1d76fe76b68"
  },
  {
   "cell_type": "code",
   "execution_count": 122,
   "outputs": [],
   "source": [
    "plt.style.use(['science', 'ieee'])\n",
    "plt.rcParams.update({'font.size': 18})\n",
    "fig, a = plt.subplots(1,2, figsize=(12, 6))\n",
    "\n",
    "benchmark_delta[\"mean\"].plot(yerr=benchmark_delta[\"std\"],\n",
    "                             xlabel=\"\",\n",
    "                             sharex=False,\n",
    "                             legend=False,\n",
    "                             capsize=4,\n",
    "                             #fontsize=15,\n",
    "                             #ylabel=\"Bootstrapped variance\",\n",
    "                             ax=a[0])\n",
    "benchmark_delta[\"In confidence interval\"].plot(xlabel=\"\",\n",
    "                                               #ylabel=\"Coverage probability\", \n",
    "                                               legend=False,\n",
    "                                               ax=a[1],\n",
    "                                               #fontsize=15,\n",
    "                                               ylim=[0.6, 1])\n",
    "\n",
    "a[0].set_ylabel(\"Bootstrapped variance\")\n",
    "a[0].set_title(\"LogMeanExp of MA(2)\")\n",
    "a[0].set_xlabel(\"Sample size\")\n",
    "a[1].set_xlabel(\"Sample size\")\n",
    "a[1].set_ylabel(\"Coverage probability\")\n",
    "a[1].legend([\"Baseline\"] + list_name_weights)\n",
    "\n",
    "plt.savefig('benchmark_log_log_ma.pgf', format='pgf')\n",
    "#plt.tight_layout()"
   ],
   "metadata": {
    "collapsed": false,
    "ExecuteTime": {
     "end_time": "2023-12-04T08:02:20.446630Z",
     "start_time": "2023-12-04T08:02:20.203496Z"
    }
   },
   "id": "cbcbad6f89d6d6b7"
  },
  {
   "cell_type": "markdown",
   "source": [
    " # log-MA"
   ],
   "metadata": {
    "collapsed": false
   },
   "id": "13d1faffa9c989e7"
  },
  {
   "cell_type": "code",
   "execution_count": 123,
   "outputs": [],
   "source": [
    "benchmark_log_ma = pd.concat(\n",
    "    [pd.read_pickle(f\"./data/log-ma/benchmark_{sample_size}_log_ma.pkl\") for sample_size in\n",
    "     [1000, 2000, 5000, 10000]])"
   ],
   "metadata": {
    "collapsed": false,
    "ExecuteTime": {
     "end_time": "2023-12-04T08:02:20.453984Z",
     "start_time": "2023-12-04T08:02:20.447318Z"
    }
   },
   "id": "fa50258a5a47632e"
  },
  {
   "cell_type": "code",
   "execution_count": 124,
   "outputs": [
    {
     "data": {
      "text/plain": "                           mean                                        std  \\\n            Asymptotic variance         AR Multiplier         MA        AR   \nSample size                                                                  \n1000                  18.651539  18.236576  10.153774  17.677832  7.254651   \n2000                  18.651539  18.905633  10.309454  18.980460  7.572435   \n5000                  18.651539  18.271994  10.125664  18.350712  4.594355   \n10000                 18.651539  18.363996   9.890292  18.185969  3.753501   \n\n                                 In confidence interval                    \\\n            Multiplier        MA       Confidence level     AR Multiplier   \nSample size                                                                 \n1000          4.195674  7.212483                    0.9  0.888      0.756   \n2000          4.214265  7.759975                    0.9  0.884      0.756   \n5000          2.594283  4.617479                    0.9  0.912      0.804   \n10000         1.979880  3.564705                    0.9  0.880      0.736   \n\n                    \n                MA  \nSample size         \n1000         0.876  \n2000         0.876  \n5000         0.900  \n10000        0.872  ",
      "text/html": "<div>\n<style scoped>\n    .dataframe tbody tr th:only-of-type {\n        vertical-align: middle;\n    }\n\n    .dataframe tbody tr th {\n        vertical-align: top;\n    }\n\n    .dataframe thead tr th {\n        text-align: left;\n    }\n\n    .dataframe thead tr:last-of-type th {\n        text-align: right;\n    }\n</style>\n<table border=\"1\" class=\"dataframe\">\n  <thead>\n    <tr>\n      <th></th>\n      <th colspan=\"4\" halign=\"left\">mean</th>\n      <th colspan=\"3\" halign=\"left\">std</th>\n      <th colspan=\"4\" halign=\"left\">In confidence interval</th>\n    </tr>\n    <tr>\n      <th></th>\n      <th>Asymptotic variance</th>\n      <th>AR</th>\n      <th>Multiplier</th>\n      <th>MA</th>\n      <th>AR</th>\n      <th>Multiplier</th>\n      <th>MA</th>\n      <th>Confidence level</th>\n      <th>AR</th>\n      <th>Multiplier</th>\n      <th>MA</th>\n    </tr>\n    <tr>\n      <th>Sample size</th>\n      <th></th>\n      <th></th>\n      <th></th>\n      <th></th>\n      <th></th>\n      <th></th>\n      <th></th>\n      <th></th>\n      <th></th>\n      <th></th>\n      <th></th>\n    </tr>\n  </thead>\n  <tbody>\n    <tr>\n      <th>1000</th>\n      <td>18.651539</td>\n      <td>18.236576</td>\n      <td>10.153774</td>\n      <td>17.677832</td>\n      <td>7.254651</td>\n      <td>4.195674</td>\n      <td>7.212483</td>\n      <td>0.9</td>\n      <td>0.888</td>\n      <td>0.756</td>\n      <td>0.876</td>\n    </tr>\n    <tr>\n      <th>2000</th>\n      <td>18.651539</td>\n      <td>18.905633</td>\n      <td>10.309454</td>\n      <td>18.980460</td>\n      <td>7.572435</td>\n      <td>4.214265</td>\n      <td>7.759975</td>\n      <td>0.9</td>\n      <td>0.884</td>\n      <td>0.756</td>\n      <td>0.876</td>\n    </tr>\n    <tr>\n      <th>5000</th>\n      <td>18.651539</td>\n      <td>18.271994</td>\n      <td>10.125664</td>\n      <td>18.350712</td>\n      <td>4.594355</td>\n      <td>2.594283</td>\n      <td>4.617479</td>\n      <td>0.9</td>\n      <td>0.912</td>\n      <td>0.804</td>\n      <td>0.900</td>\n    </tr>\n    <tr>\n      <th>10000</th>\n      <td>18.651539</td>\n      <td>18.363996</td>\n      <td>9.890292</td>\n      <td>18.185969</td>\n      <td>3.753501</td>\n      <td>1.979880</td>\n      <td>3.564705</td>\n      <td>0.9</td>\n      <td>0.880</td>\n      <td>0.736</td>\n      <td>0.872</td>\n    </tr>\n  </tbody>\n</table>\n</div>"
     },
     "execution_count": 124,
     "metadata": {},
     "output_type": "execute_result"
    }
   ],
   "source": [
    "benchmark_log_ma"
   ],
   "metadata": {
    "collapsed": false,
    "ExecuteTime": {
     "end_time": "2023-12-04T08:02:20.461840Z",
     "start_time": "2023-12-04T08:02:20.457063Z"
    }
   },
   "id": "cf742032ded93e54"
  },
  {
   "cell_type": "code",
   "execution_count": 125,
   "outputs": [
    {
     "data": {
      "text/plain": "<matplotlib.legend.Legend at 0x14f71d310>"
     },
     "execution_count": 125,
     "metadata": {},
     "output_type": "execute_result"
    }
   ],
   "source": [
    "plt.style.use(['science', 'ieee'])\n",
    "plt.rcParams.update({'font.size': 18})\n",
    "fig, a = plt.subplots(1,2, figsize=(12, 6))\n",
    "\n",
    "benchmark_log_ma[\"mean\"].plot(yerr=benchmark_log_ma[\"std\"],\n",
    "                             xlabel=\"\",\n",
    "                             sharex=False,\n",
    "                             legend=False,\n",
    "                             capsize=4,\n",
    "                             #fontsize=15,\n",
    "                             #ylabel=\"Bootstrapped variance\",\n",
    "                             ax=a[0])\n",
    "benchmark_log_ma[\"In confidence interval\"].plot(xlabel=\"\",\n",
    "                                               #ylabel=\"Coverage probability\", \n",
    "                                               legend=False,\n",
    "                                               ax=a[1],\n",
    "                                               #fontsize=15,\n",
    "                                               ylim=[0.6, 1])\n",
    "\n",
    "a[0].set_ylabel(\"Bootstrapped variance\")\n",
    "a[0].set_title(\"log-MA\")\n",
    "a[0].set_xlabel(\"Sample size\")\n",
    "a[1].set_xlabel(\"Sample size\")\n",
    "a[1].set_ylabel(\"Coverage probability\")\n",
    "a[1].legend([\"Baseline\"] + list_name_weights)\n",
    "\n",
    "#plt.savefig('benchmark_log-ma.pgf', format='pgf')\n",
    "#plt.tight_layout()"
   ],
   "metadata": {
    "collapsed": false,
    "ExecuteTime": {
     "end_time": "2023-12-04T08:02:20.611900Z",
     "start_time": "2023-12-04T08:02:20.472380Z"
    }
   },
   "id": "5fe13263ef87f053"
  },
  {
   "cell_type": "markdown",
   "source": [
    "# Different hyperparameters beta"
   ],
   "metadata": {
    "collapsed": false
   },
   "id": "24e2ebaa2f4439c4"
  },
  {
   "cell_type": "code",
   "execution_count": 126,
   "outputs": [],
   "source": [
    "benchmark_beta = pd.read_pickle(f\"./data/ma-process/benchmark_beta.pkl\")"
   ],
   "metadata": {
    "collapsed": false,
    "ExecuteTime": {
     "end_time": "2023-12-04T08:02:20.612127Z",
     "start_time": "2023-12-04T08:02:20.579185Z"
    }
   },
   "id": "6ced17e2be314a26"
  },
  {
   "cell_type": "code",
   "execution_count": 127,
   "outputs": [
    {
     "data": {
      "text/plain": "<Axes: xlabel='Hyperparameter beta', ylabel='Mean squared error'>"
     },
     "execution_count": 127,
     "metadata": {},
     "output_type": "execute_result"
    }
   ],
   "source": [
    "plt.rcParams.update({'font.size': 8})\n",
    "benchmark_beta[\"Beta\"].T[\"bias-variance trade-off\"].plot(xlabel=\"Hyperparameter beta\",\n",
    "                                                         ylabel=\"Mean squared error\", )\n",
    "#plt.savefig('benchmark-beta.pgf', format='pgf')"
   ],
   "metadata": {
    "collapsed": false,
    "ExecuteTime": {
     "end_time": "2023-12-04T08:02:20.664077Z",
     "start_time": "2023-12-04T08:02:20.593509Z"
    }
   },
   "id": "4069e2c35e380a49"
  },
  {
   "cell_type": "markdown",
   "source": [
    "# Time analysis"
   ],
   "metadata": {
    "collapsed": false
   },
   "id": "5c68af0fce02996e"
  },
  {
   "cell_type": "code",
   "execution_count": 128,
   "outputs": [],
   "source": [
    "benchmark_time = pd.read_pickle(f\"./data/ma-process/benchmark_time.pkl\")"
   ],
   "metadata": {
    "collapsed": false,
    "ExecuteTime": {
     "end_time": "2023-12-04T08:02:20.689187Z",
     "start_time": "2023-12-04T08:02:20.645082Z"
    }
   },
   "id": "31ed64f679d521ae"
  },
  {
   "cell_type": "code",
   "execution_count": 129,
   "outputs": [
    {
     "data": {
      "text/plain": "                AR           MA          IID\ncount  2000.000000  2000.000000  2000.000000\nmean      0.000958     0.043341     0.000039\nstd       0.000055     0.572982     0.000022\nmin       0.000482     0.001172     0.000034\n25%       0.000926     0.008520     0.000036\n50%       0.000937     0.015430     0.000037\n75%       0.000968     0.022286     0.000037\nmax       0.001445    18.258155     0.000699",
      "text/html": "<div>\n<style scoped>\n    .dataframe tbody tr th:only-of-type {\n        vertical-align: middle;\n    }\n\n    .dataframe tbody tr th {\n        vertical-align: top;\n    }\n\n    .dataframe thead th {\n        text-align: right;\n    }\n</style>\n<table border=\"1\" class=\"dataframe\">\n  <thead>\n    <tr style=\"text-align: right;\">\n      <th></th>\n      <th>AR</th>\n      <th>MA</th>\n      <th>IID</th>\n    </tr>\n  </thead>\n  <tbody>\n    <tr>\n      <th>count</th>\n      <td>2000.000000</td>\n      <td>2000.000000</td>\n      <td>2000.000000</td>\n    </tr>\n    <tr>\n      <th>mean</th>\n      <td>0.000958</td>\n      <td>0.043341</td>\n      <td>0.000039</td>\n    </tr>\n    <tr>\n      <th>std</th>\n      <td>0.000055</td>\n      <td>0.572982</td>\n      <td>0.000022</td>\n    </tr>\n    <tr>\n      <th>min</th>\n      <td>0.000482</td>\n      <td>0.001172</td>\n      <td>0.000034</td>\n    </tr>\n    <tr>\n      <th>25%</th>\n      <td>0.000926</td>\n      <td>0.008520</td>\n      <td>0.000036</td>\n    </tr>\n    <tr>\n      <th>50%</th>\n      <td>0.000937</td>\n      <td>0.015430</td>\n      <td>0.000037</td>\n    </tr>\n    <tr>\n      <th>75%</th>\n      <td>0.000968</td>\n      <td>0.022286</td>\n      <td>0.000037</td>\n    </tr>\n    <tr>\n      <th>max</th>\n      <td>0.001445</td>\n      <td>18.258155</td>\n      <td>0.000699</td>\n    </tr>\n  </tbody>\n</table>\n</div>"
     },
     "execution_count": 129,
     "metadata": {},
     "output_type": "execute_result"
    }
   ],
   "source": [
    "benchmark_time.describe()"
   ],
   "metadata": {
    "collapsed": false,
    "ExecuteTime": {
     "end_time": "2023-12-04T08:02:20.696388Z",
     "start_time": "2023-12-04T08:02:20.650440Z"
    }
   },
   "id": "68a68cb4454fd4ce"
  },
  {
   "cell_type": "code",
   "execution_count": 130,
   "outputs": [
    {
     "data": {
      "text/plain": "<Axes: xlabel='Sample index', ylabel='Time per update [sec]'>"
     },
     "execution_count": 130,
     "metadata": {},
     "output_type": "execute_result"
    }
   ],
   "source": [
    "benchmark_time.plot(logy=True, ylabel=\"Time per update [sec]\", xlabel=\"Sample index\")\n",
    "#plt.savefig('benchmark-time.pgf', format='pgf')"
   ],
   "metadata": {
    "collapsed": false,
    "ExecuteTime": {
     "end_time": "2023-12-04T08:02:20.763811Z",
     "start_time": "2023-12-04T08:02:20.666653Z"
    }
   },
   "id": "962ba58209fd4f1d"
  }
 ],
 "metadata": {
  "kernelspec": {
   "display_name": "Python 3",
   "language": "python",
   "name": "python3"
  },
  "language_info": {
   "codemirror_mode": {
    "name": "ipython",
    "version": 2
   },
   "file_extension": ".py",
   "mimetype": "text/x-python",
   "name": "python",
   "nbconvert_exporter": "python",
   "pygments_lexer": "ipython2",
   "version": "2.7.6"
  }
 },
 "nbformat": 4,
 "nbformat_minor": 5
}
