{
 "cells": [
  {
   "cell_type": "code",
   "execution_count": null,
   "id": "fc48df12",
   "metadata": {},
   "outputs": [],
   "source": [
    "#! pip install tqdm multiprocess"
   ]
  },
  {
   "cell_type": "code",
   "execution_count": null,
   "id": "aed9464ae1972baf",
   "metadata": {},
   "outputs": [],
   "source": [
    "import numpy as np\n",
    "import pandas as pd\n",
    "from multiprocess import Pool\n",
    "import time \n",
    "\n",
    "from functions import evaluate_ar, evaluate_multiplier_iid, evaluate_ma\n",
    "from bstrapping.synthetic_time_series.moving_average import MovingAverage\n",
    "from bstrapping.bootstrap_procedures.weighted_bootstrap import WeightedBootstrap\n",
    "from bstrapping.weights.auto_regressive_weights import AutoRegressiveWeights\n",
    "from bstrapping.weights.moving_average import MovingAverageWeights\n",
    "from bstrapping.weights.gaussian_weights import GaussianWeights"
   ]
  },
  {
   "cell_type": "code",
   "execution_count": null,
   "id": "initial_id",
   "metadata": {},
   "outputs": [],
   "source": [
    "mean = 4  # mean of the time series\n",
    "alpha = 0.1\n",
    "\n",
    "# Names of the stochastic processes\n",
    "\n",
    "# Dependence coefficients of the stochastic processes, i.e. of the moving average processes\n",
    "dependence_coefficient = np.array([0.5 ** i for i in range(1, 3)])\n",
    "\n",
    "list_name_weights = ['AR',\n",
    "                     'Multiplier',\n",
    "                     'MA',\n",
    "                     ]"
   ]
  },
  {
   "cell_type": "code",
   "execution_count": null,
   "id": "dbf8f63c165eeb93",
   "metadata": {},
   "outputs": [],
   "source": [
    "runs = 2"
   ]
  },
  {
   "cell_type": "markdown",
   "id": "6821e096a7bed51d",
   "metadata": {},
   "source": [
    "## Benchmark bootstraps"
   ]
  },
  {
   "cell_type": "code",
   "execution_count": null,
   "id": "8dacf069",
   "metadata": {},
   "outputs": [],
   "source": [
    "sample_sizes = [1000,2000,5000,10000]"
   ]
  },
  {
   "cell_type": "code",
   "execution_count": null,
   "id": "dafad42789da53e0",
   "metadata": {},
   "outputs": [],
   "source": [
    "%%time\n",
    "%%capture\n",
    "\n",
    "p = Pool()\n",
    "durations_ar_mean = []\n",
    "durations_ar_std = []\n",
    "for sample_size in sample_sizes:\n",
    "    duration_ar = []\n",
    "    sample = MovingAverage(mean=mean, \n",
    "                           parameters=dependence_coefficient).generate_samples(sample_size)\n",
    "    for _ in range(runs):\n",
    "        start_time = time.perf_counter()\n",
    "        WeightedBootstrap(samples=sample,\n",
    "                          weights=AutoRegressiveWeights(samples=sample),\n",
    "                          number_bootstrap_samples=20)\n",
    "        end_time = time.perf_counter()\n",
    "        duration_ar.append(end_time - start_time)\n",
    "    \n",
    "    durations_ar_mean.append(np.mean(duration_ar))\n",
    "    durations_ar_std.append(np.std(duration_ar))\n"
   ]
  },
  {
   "cell_type": "code",
   "execution_count": null,
   "id": "a323cda1",
   "metadata": {},
   "outputs": [],
   "source": [
    "%%time\n",
    "%%capture\n",
    "\n",
    "p = Pool()\n",
    "durations_iid_mean = []\n",
    "durations_iid_std = []\n",
    "for sample_size in sample_sizes:\n",
    "    duration_iid = []\n",
    "    sample = MovingAverage(mean=mean, \n",
    "                           parameters=dependence_coefficient).generate_samples(sample_size)\n",
    "    for _ in range(runs):\n",
    "        start_time = time.perf_counter()\n",
    "        WeightedBootstrap(samples=sample,\n",
    "                          weights=GaussianWeights(samples=sample),\n",
    "                          number_bootstrap_samples=20)\n",
    "        end_time = time.perf_counter()\n",
    "        duration_iid.append(end_time - start_time)\n",
    "    \n",
    "    durations_iid_mean.append(np.mean(duration_iid))\n",
    "    durations_iid_std.append(np.std(duration_iid))"
   ]
  },
  {
   "cell_type": "code",
   "execution_count": null,
   "id": "87794a28",
   "metadata": {},
   "outputs": [],
   "source": [
    "%%time\n",
    "%%capture\n",
    "\n",
    "p = Pool()\n",
    "durations_ma_mean = []\n",
    "durations_ma_std = []\n",
    "for sample_size in sample_sizes:\n",
    "    duration_ma = []\n",
    "    sample = MovingAverage(mean=mean, \n",
    "                           parameters=dependence_coefficient).generate_samples(sample_size)\n",
    "    for _ in range(runs):\n",
    "        start_time = time.perf_counter()\n",
    "        WeightedBootstrap(samples=sample,\n",
    "                          weights=MovingAverageWeights(samples=sample),\n",
    "                          number_bootstrap_samples=20)\n",
    "        end_time = time.perf_counter()\n",
    "        duration_ma.append(end_time - start_time)\n",
    "    \n",
    "    durations_ma_mean.append(np.mean(duration_ma))\n",
    "    durations_ma_std.append(np.std(duration_ma))"
   ]
  },
  {
   "cell_type": "markdown",
   "id": "f535e8ed17bf047d",
   "metadata": {},
   "source": [
    "## Concatination result"
   ]
  },
  {
   "cell_type": "code",
   "execution_count": null,
   "id": "705dc8fe",
   "metadata": {},
   "outputs": [],
   "source": [
    "benchmark = pd.DataFrame(\n",
    "    [durations_ar_mean,durations_iid_mean,durations_ma_mean,\n",
    "    durations_ar_std,durations_iid_std,durations_ma_std],\n",
    "    columns=sample_sizes,\n",
    "    index= pd.MultiIndex.from_tuples([(\"mean\",\"AR\"),(\"mean\",\"Multiplier\"),(\"mean\",\"MA\"),\n",
    "                                     (\"std\",\"AR\"),(\"std\",\"Multiplier\"),(\"std\",\"MA\")])\n",
    ").T"
   ]
  },
  {
   "cell_type": "code",
   "execution_count": null,
   "id": "281dd370",
   "metadata": {},
   "outputs": [],
   "source": [
    "benchmark"
   ]
  },
  {
   "cell_type": "code",
   "execution_count": null,
   "id": "fb5e172f4574883d",
   "metadata": {},
   "outputs": [],
   "source": [
    "#benchmark.to_csv(f\"./data/benchmark_times.csv\")\n",
    "#benchmark.to_pickle(f\"./data/benchmark_times.pkl\")"
   ]
  }
 ],
 "metadata": {
  "kernelspec": {
   "display_name": "Python 3 (ipykernel)",
   "language": "python",
   "name": "python3"
  },
  "language_info": {
   "codemirror_mode": {
    "name": "ipython",
    "version": 3
   },
   "file_extension": ".py",
   "mimetype": "text/x-python",
   "name": "python",
   "nbconvert_exporter": "python",
   "pygments_lexer": "ipython3",
   "version": "3.10.6"
  }
 },
 "nbformat": 4,
 "nbformat_minor": 5
}
