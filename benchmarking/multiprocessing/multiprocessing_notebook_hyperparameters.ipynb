{
 "cells": [
  {
   "cell_type": "code",
   "execution_count": null,
   "id": "f519b53f",
   "metadata": {},
   "outputs": [],
   "source": [
    "#! pip install tqdm multiprocess"
   ]
  },
  {
   "cell_type": "code",
   "execution_count": null,
   "id": "aed9464ae1972baf",
   "metadata": {},
   "outputs": [],
   "source": [
    "import numpy as np\n",
    "import pandas as pd\n",
    "from multiprocess import Pool\n",
    "\n",
    "from functions import evaluate_ar, evaluate_multiplier_iid, evaluate_ma\n",
    "from bstrapping.synthetic_time_series.moving_average import MovingAverage"
   ]
  },
  {
   "cell_type": "code",
   "execution_count": null,
   "id": "initial_id",
   "metadata": {},
   "outputs": [],
   "source": [
    "mean = 4  # mean of the time series\n",
    "alpha = 0.1\n",
    "\n",
    "# Names of the stochastic processes\n",
    "\n",
    "# Dependence coefficients of the stochastic processes, i.e. of the moving average processes\n",
    "dependence_coefficients = [\n",
    "    np.array([0]),\n",
    "    np.array([0.5]),\n",
    "    np.array([0.5 ** i for i in range(1, 3)]),\n",
    "    np.array([0.5 ** i for i in range(1, 11)]),\n",
    "    np.array([0.5 ** i for i in range(1, 16)]),\n",
    "    np.array([0.5 ** i for i in range(1, 21)]),\n",
    "]\n",
    "\n",
    "names_dependence_coefficients = [\n",
    "    \"iid\",\n",
    "    \"MA(1)\",\n",
    "    \"MA(2)\",\n",
    "    \"MA(10)\",\n",
    "    \"MA(25)\",\n",
    "    \"MA(20)\",\n",
    "]\n",
    "\n",
    "list_name_weights = ['AR',\n",
    "                     'Multiplier',\n",
    "                     'MA',\n",
    "                     ]"
   ]
  },
  {
   "cell_type": "code",
   "execution_count": null,
   "id": "ba8f0b87876413cc",
   "metadata": {},
   "outputs": [],
   "source": [
    "benchmark = []\n",
    "means_of_variance = []\n",
    "std_of_variance = []"
   ]
  },
  {
   "cell_type": "code",
   "execution_count": null,
   "id": "dbf8f63c165eeb93",
   "metadata": {},
   "outputs": [],
   "source": [
    "sample_size = 2000\n",
    "runs = 10\n",
    "index_dependence = 3\n",
    "\n",
    "time_series = MovingAverage(mean=mean, parameters=dependence_coefficients[index_dependence])\n",
    "print(\"Time series: \",names_dependence_coefficients[index_dependence], \"\\nSample size: \", sample_size)"
   ]
  },
  {
   "cell_type": "code",
   "execution_count": null,
   "id": "3bdb77e4284576f4",
   "metadata": {},
   "outputs": [],
   "source": [
    "samples = [\n",
    "    MovingAverage(mean=mean, parameters=dependence_coefficients[index_dependence]).generate_samples(sample_size)\n",
    "    for _ in range(runs)]"
   ]
  },
  {
   "cell_type": "code",
   "execution_count": null,
   "id": "3eb01414f3c72ac7",
   "metadata": {},
   "outputs": [],
   "source": [
    "asy_var = MovingAverage(mean=mean, parameters=dependence_coefficients[index_dependence]).asymptotic_variance"
   ]
  },
  {
   "cell_type": "markdown",
   "id": "6821e096a7bed51d",
   "metadata": {},
   "source": [
    "## Benchmark bootstraps"
   ]
  },
  {
   "cell_type": "code",
   "execution_count": null,
   "id": "85468984",
   "metadata": {},
   "outputs": [],
   "source": [
    "betas = [0.1,0.2,\"optimal\",0.5,0.9]"
   ]
  },
  {
   "cell_type": "code",
   "execution_count": null,
   "id": "1a3c78aa",
   "metadata": {},
   "outputs": [],
   "source": [
    "%%time\n",
    "%%capture\n",
    "# benchmark AR bootstrap\n",
    "p = Pool()\n",
    "evaluations_multiplier_ar = p.map(lambda sample: evaluate_ar(sample, alpha=alpha,number_bootstrap_samples=250,beta=0.1), samples)\n",
    "\n",
    "result = np.array(evaluations_multiplier_ar)\n",
    "means_of_variance.append(np.mean(result.T[0])-asy_var)\n",
    "std_of_variance.append(np.std(result.T[0]))"
   ]
  },
  {
   "cell_type": "code",
   "execution_count": null,
   "id": "fbd304f1",
   "metadata": {},
   "outputs": [],
   "source": [
    "%%time\n",
    "%%capture\n",
    "# benchmark AR bootstrap\n",
    "p = Pool()\n",
    "evaluations_multiplier_ar = p.map(lambda sample: evaluate_ar(sample, alpha=alpha,number_bootstrap_samples=250,beta=0.2), samples)\n",
    "\n",
    "result = np.array(evaluations_multiplier_ar)\n",
    "means_of_variance.append(np.mean(result.T[0])-asy_var)\n",
    "std_of_variance.append(np.std(result.T[0]))"
   ]
  },
  {
   "cell_type": "code",
   "execution_count": null,
   "id": "caf5a599",
   "metadata": {},
   "outputs": [],
   "source": [
    "%%time\n",
    "%%capture\n",
    "# benchmark AR bootstrap\n",
    "p = Pool()\n",
    "evaluations_multiplier_ar = p.map(lambda sample: evaluate_ar(sample, alpha=alpha,number_bootstrap_samples=250,beta=2**(1/2)-1), samples)\n",
    "\n",
    "result = np.array(evaluations_multiplier_ar)\n",
    "means_of_variance.append(np.mean(result.T[0])-asy_var)\n",
    "std_of_variance.append(np.std(result.T[0]))"
   ]
  },
  {
   "cell_type": "code",
   "execution_count": null,
   "id": "5bae7ffc",
   "metadata": {},
   "outputs": [],
   "source": [
    "%%time\n",
    "%%capture\n",
    "# benchmark AR bootstrap\n",
    "p = Pool()\n",
    "evaluations_multiplier_ar = p.map(lambda sample: evaluate_ar(sample, alpha=alpha,number_bootstrap_samples=250,beta=0.5), samples)\n",
    "\n",
    "result = np.array(evaluations_multiplier_ar)\n",
    "means_of_variance.append(np.mean(result.T[0])-asy_var)\n",
    "std_of_variance.append(np.std(result.T[0]))"
   ]
  },
  {
   "cell_type": "code",
   "execution_count": null,
   "id": "72f052e1",
   "metadata": {},
   "outputs": [],
   "source": [
    "%%time\n",
    "%%capture\n",
    "# benchmark AR bootstrap\n",
    "p = Pool()\n",
    "evaluations_multiplier_ar = p.map(lambda sample: evaluate_ar(sample, alpha=alpha,number_bootstrap_samples=250,beta=0.9), samples)\n",
    "\n",
    "result = np.array(evaluations_multiplier_ar)\n",
    "means_of_variance.append(np.mean(result.T[0])-asy_var)\n",
    "std_of_variance.append(np.std(result.T[0]))"
   ]
  },
  {
   "cell_type": "markdown",
   "id": "f535e8ed17bf047d",
   "metadata": {},
   "source": [
    "## Concatination result"
   ]
  },
  {
   "cell_type": "code",
   "execution_count": null,
   "id": "515b8bda",
   "metadata": {},
   "outputs": [],
   "source": [
    "benchmark = pd.DataFrame([means_of_variance,std_of_variance],\n",
    "                         columns = pd.MultiIndex.from_tuples([(\"Beta\",beta) for beta in betas]),\n",
    "                        index=[\"Difference to mean\",\"Std\"])"
   ]
  },
  {
   "cell_type": "code",
   "execution_count": null,
   "id": "88a20176",
   "metadata": {},
   "outputs": [],
   "source": [
    "benchmark"
   ]
  },
  {
   "cell_type": "code",
   "execution_count": null,
   "id": "fb5e172f4574883d",
   "metadata": {},
   "outputs": [],
   "source": [
    "#benchmark.to_csv(f\"./data/benchmark_{sample_size}_{names_dependence_coefficients[index_dependence]}.csv\")\n",
    "#benchmark.to_pickle(f\"./data/benchmark_{sample_size}_{names_dependence_coefficients[index_dependence]}.pkl\")"
   ]
  }
 ],
 "metadata": {
  "kernelspec": {
   "display_name": "Python 3 (ipykernel)",
   "language": "python",
   "name": "python3"
  },
  "language_info": {
   "codemirror_mode": {
    "name": "ipython",
    "version": 3
   },
   "file_extension": ".py",
   "mimetype": "text/x-python",
   "name": "python",
   "nbconvert_exporter": "python",
   "pygments_lexer": "ipython3",
   "version": "3.10.6"
  }
 },
 "nbformat": 4,
 "nbformat_minor": 5
}
